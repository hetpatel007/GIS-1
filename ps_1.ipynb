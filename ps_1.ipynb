{
  "nbformat": 4,
  "nbformat_minor": 0,
  "metadata": {
    "colab": {
      "provenance": [],
      "authorship_tag": "ABX9TyMOLIr9+ELbsohO1VHljWFO",
      "include_colab_link": true
    },
    "kernelspec": {
      "name": "python3",
      "display_name": "Python 3"
    },
    "language_info": {
      "name": "python"
    }
  },
  "cells": [
    {
      "cell_type": "markdown",
      "metadata": {
        "id": "view-in-github",
        "colab_type": "text"
      },
      "source": [
        "<a href=\"https://colab.research.google.com/github/hetpatel007/GIS-1/blob/main/ps_1.ipynb\" target=\"_parent\"><img src=\"https://colab.research.google.com/assets/colab-badge.svg\" alt=\"Open In Colab\"/></a>"
      ]
    },
    {
      "cell_type": "markdown",
      "source": [
        "### **Resaerch Intesrest**\n"
      ],
      "metadata": {
        "id": "qAEVoYVZtU2i"
      }
    },
    {
      "cell_type": "markdown",
      "source": [
        "In this Project ,\n",
        "I am working to map to correlation between literacy rate and unemployment rate accross states in India"
      ],
      "metadata": {
        "id": "c4oMYoWvtfF-"
      }
    },
    {
      "cell_type": "markdown",
      "source": [
        "## **Libraries**"
      ],
      "metadata": {
        "id": "z5dhKe9St2I8"
      }
    },
    {
      "cell_type": "code",
      "execution_count": null,
      "metadata": {
        "id": "6-Q2Cd5GK8y7"
      },
      "outputs": [],
      "source": [
        "import os, zipfile #basics\n",
        "import pandas as pd #data management\n",
        "import matplotlib.pyplot as plt #vis\n",
        "\n",
        "import geopandas as gpd #gis/maps\n",
        "\n",
        "#will display all output not just last command\n",
        "from IPython.core.interactiveshell import InteractiveShell\n",
        "InteractiveShell.ast_node_interactivity = \"all\"\n",
        "\n",
        "from google.colab import files #to download from colab onto hd\n",
        "\n",
        "from google.colab import data_table\n",
        "data_table.enable_dataframe_formatter() #this enables spreadsheet view upon calling dataframe (without() )"
      ]
    },
    {
      "cell_type": "code",
      "source": [
        "!pip install mapclassify\n",
        "import mapclassify #need for thematic map classification"
      ],
      "metadata": {
        "colab": {
          "base_uri": "https://localhost:8080/"
        },
        "id": "U511WgLe_aWS",
        "outputId": "25a4f742-0e60-46f7-8da0-c02c652a4954"
      },
      "execution_count": null,
      "outputs": [
        {
          "output_type": "stream",
          "name": "stdout",
          "text": [
            "Collecting mapclassify\n",
            "  Downloading mapclassify-2.6.0-py3-none-any.whl (40 kB)\n",
            "\u001b[?25l     \u001b[90m━━━━━━━━━━━━━━━━━━━━━━━━━━━━━━━━━━━━━━━━\u001b[0m \u001b[32m0.0/40.8 kB\u001b[0m \u001b[31m?\u001b[0m eta \u001b[36m-:--:--\u001b[0m\r\u001b[2K     \u001b[90m━━━━━━━━━━━━━━━━━━━━━━━━━━━━━━━━━━━━━━━━\u001b[0m \u001b[32m40.8/40.8 kB\u001b[0m \u001b[31m1.3 MB/s\u001b[0m eta \u001b[36m0:00:00\u001b[0m\n",
            "\u001b[?25hRequirement already satisfied: scipy>=1.0 in /usr/local/lib/python3.10/dist-packages (from mapclassify) (1.11.2)\n",
            "Requirement already satisfied: numpy>=1.3 in /usr/local/lib/python3.10/dist-packages (from mapclassify) (1.23.5)\n",
            "Requirement already satisfied: scikit-learn in /usr/local/lib/python3.10/dist-packages (from mapclassify) (1.2.2)\n",
            "Requirement already satisfied: pandas>=1.0 in /usr/local/lib/python3.10/dist-packages (from mapclassify) (1.5.3)\n",
            "Requirement already satisfied: networkx in /usr/local/lib/python3.10/dist-packages (from mapclassify) (3.1)\n",
            "Requirement already satisfied: python-dateutil>=2.8.1 in /usr/local/lib/python3.10/dist-packages (from pandas>=1.0->mapclassify) (2.8.2)\n",
            "Requirement already satisfied: pytz>=2020.1 in /usr/local/lib/python3.10/dist-packages (from pandas>=1.0->mapclassify) (2023.3.post1)\n",
            "Requirement already satisfied: joblib>=1.1.1 in /usr/local/lib/python3.10/dist-packages (from scikit-learn->mapclassify) (1.3.2)\n",
            "Requirement already satisfied: threadpoolctl>=2.0.0 in /usr/local/lib/python3.10/dist-packages (from scikit-learn->mapclassify) (3.2.0)\n",
            "Requirement already satisfied: six>=1.5 in /usr/local/lib/python3.10/dist-packages (from python-dateutil>=2.8.1->pandas>=1.0->mapclassify) (1.16.0)\n",
            "Installing collected packages: mapclassify\n",
            "Successfully installed mapclassify-2.6.0\n"
          ]
        }
      ]
    },
    {
      "cell_type": "code",
      "source": [
        "from google.colab import drive\n",
        "drive.mount('/content/drive')"
      ],
      "metadata": {
        "colab": {
          "base_uri": "https://localhost:8080/"
        },
        "id": "iPRyZcAW9tXT",
        "outputId": "2638d214-ee79-4d63-c0eb-d8b5d44ca8ff"
      },
      "execution_count": null,
      "outputs": [
        {
          "output_type": "stream",
          "name": "stdout",
          "text": [
            "Mounted at /content/drive\n"
          ]
        }
      ]
    },
    {
      "cell_type": "markdown",
      "source": [
        "## mapping your area of interest"
      ],
      "metadata": {
        "id": "8ZLJ21enuAJ4"
      }
    },
    {
      "cell_type": "markdown",
      "source": [
        "*   In the code we found the zip file ,unzipped it and found the shape file of india ,after which we plot it."
      ],
      "metadata": {
        "id": "cvfpefPPuB2f"
      }
    },
    {
      "cell_type": "code",
      "source": [
        "! wget -q -O GIS_INDIA_MAP.zip https://drive.google.com/uc?id=1BHlY3nu1CY1eg0ULpvQDbYobmXMQaB9N&export=download\n",
        "zip_ref = zipfile.ZipFile('GIS_INDIA_MAP.zip', 'r'); zip_ref.extractall(); zip_ref.close()"
      ],
      "metadata": {
        "id": "2vk8wDCQ8q6M"
      },
      "execution_count": null,
      "outputs": []
    },
    {
      "cell_type": "code",
      "source": [
        "Ind = gpd.read_file('India States/Indian_states.shp')"
      ],
      "metadata": {
        "id": "_jnNs9eS9jSJ"
      },
      "execution_count": null,
      "outputs": []
    },
    {
      "cell_type": "code",
      "source": [
        "Ind.plot()"
      ],
      "metadata": {
        "colab": {
          "base_uri": "https://localhost:8080/",
          "height": 447
        },
        "id": "mIkdXS8o_yHs",
        "outputId": "1518eae5-1801-46d4-a2d6-46ca5dfdfb9d"
      },
      "execution_count": null,
      "outputs": [
        {
          "output_type": "execute_result",
          "data": {
            "text/plain": [
              "<Axes: >"
            ]
          },
          "metadata": {},
          "execution_count": 8
        },
        {
          "output_type": "display_data",
          "data": {
            "text/plain": [
              "<Figure size 640x480 with 1 Axes>"
            ],
            "image/png": "[encoded data removed]"
          },
          "metadata": {}
        }
      ]
    },
    {
      "cell_type": "markdown",
      "source": [
        "# **Data Types and columns in the shapefile**"
      ],
      "metadata": {
        "id": "GK1A1Vg0ucti"
      }
    },
    {
      "cell_type": "code",
      "source": [
        "Ind.dtypes"
      ],
      "metadata": {
        "colab": {
          "base_uri": "https://localhost:8080/"
        },
        "id": "MJgLW5sw_z0F",
        "outputId": "4b52e628-5c7f-4a1a-f942-8e8f396b4559"
      },
      "execution_count": null,
      "outputs": [
        {
          "output_type": "execute_result",
          "data": {
            "text/plain": [
              "st_nm         object\n",
              "geometry    geometry\n",
              "dtype: object"
            ]
          },
          "metadata": {},
          "execution_count": 9
        }
      ]
    },
    {
      "cell_type": "code",
      "source": [
        "import pandas as pd\n",
        "# Rename columns using the rename() method\n",
        "Ind = Ind.rename(columns={'st_nm': 'State'})"
      ],
      "metadata": {
        "id": "IEqJYyHJHXfa"
      },
      "execution_count": null,
      "outputs": []
    },
    {
      "cell_type": "code",
      "source": [
        "Ind.dtypes"
      ],
      "metadata": {
        "colab": {
          "base_uri": "https://localhost:8080/"
        },
        "id": "aKJJPW1oIbxo",
        "outputId": "a519b0e2-9a2f-44a1-c32d-07e3af89069f"
      },
      "execution_count": null,
      "outputs": [
        {
          "output_type": "execute_result",
          "data": {
            "text/plain": [
              "State         object\n",
              "geometry    geometry\n",
              "dtype: object"
            ]
          },
          "metadata": {},
          "execution_count": 11
        }
      ]
    },
    {
      "cell_type": "code",
      "source": [
        "Ind['State'].count()"
      ],
      "metadata": {
        "colab": {
          "base_uri": "https://localhost:8080/"
        },
        "id": "ET12_2wSIcdT",
        "outputId": "c34facc1-9bdf-45fa-a8b4-f0f2977a5841"
      },
      "execution_count": null,
      "outputs": [
        {
          "output_type": "execute_result",
          "data": {
            "text/plain": [
              "36"
            ]
          },
          "metadata": {},
          "execution_count": 12
        }
      ]
    },
    {
      "cell_type": "markdown",
      "source": [
        "## Unemployment in India\n",
        "Map 1"
      ],
      "metadata": {
        "id": "k7wh-KSyRXv-"
      }
    },
    {
      "cell_type": "code",
      "source": [
        "! wget -q -O up_df.csv https://drive.google.com/uc?id=1o3dQsYfZzpAA0-gBOW3b32Evh3vjFP5d&export=download\n"
      ],
      "metadata": {
        "id": "h6OK2kVIRbD_"
      },
      "execution_count": null,
      "outputs": []
    },
    {
      "cell_type": "code",
      "source": [
        "df_unemp = pd.read_csv(\"up_df.csv\")"
      ],
      "metadata": {
        "id": "p4KR4x3FUHAV"
      },
      "execution_count": null,
      "outputs": []
    },
    {
      "cell_type": "code",
      "source": [
        "df_unemp.head()"
      ],
      "metadata": {
        "colab": {
          "base_uri": "https://localhost:8080/",
          "height": 231
        },
        "id": "qL-C-QbMUU_y",
        "outputId": "3ef65cff-e562-4624-83d9-80499af2417d"
      },
      "execution_count": null,
      "outputs": [
        {
          "output_type": "execute_result",
          "data": {
            "text/plain": [
              "           Region         Date  Frequency   Estimated Unemployment Rate (%)  \\\n",
              "0  Andhra Pradesh   31-05-2019    Monthly                              3.65   \n",
              "1  Andhra Pradesh   30-06-2019    Monthly                              3.05   \n",
              "2  Andhra Pradesh   31-07-2019    Monthly                              3.75   \n",
              "3  Andhra Pradesh   31-08-2019    Monthly                              3.32   \n",
              "4  Andhra Pradesh   30-09-2019    Monthly                              5.17   \n",
              "\n",
              "    Estimated Employed   Estimated Labour Participation Rate (%)   Area  \n",
              "0           11999139.0                                     43.24  Rural  \n",
              "1           11755881.0                                     42.05  Rural  \n",
              "2           12086707.0                                     43.50  Rural  \n",
              "3           12285693.0                                     43.97  Rural  \n",
              "4           12256762.0                                     44.68  Rural  "
            ],
            "text/html": [
              "\n",
              "  <div id=\"df-7376bb1f-d11c-49f0-a047-f63fbf54d613\" class=\"colab-df-container\">\n",
              "    <div>\n",
              "<style scoped>\n",
              "    .dataframe tbody tr th:only-of-type {\n",
              "        vertical-align: middle;\n",
              "    }\n",
              "\n",
              "    .dataframe tbody tr th {\n",
              "        vertical-align: top;\n",
              "    }\n",
              "\n",
              "    .dataframe thead th {\n",
              "        text-align: right;\n",
              "    }\n",
              "</style>\n",
              "<table border=\"1\" class=\"dataframe\">\n",
              "  <thead>\n",
              "    <tr style=\"text-align: right;\">\n",
              "      <th></th>\n",
              "      <th>Region</th>\n",
              "      <th>Date</th>\n",
              "      <th>Frequency</th>\n",
              "      <th>Estimated Unemployment Rate (%)</th>\n",
              "      <th>Estimated Employed</th>\n",
              "      <th>Estimated Labour Participation Rate (%)</th>\n",
              "      <th>Area</th>\n",
              "    </tr>\n",
              "  </thead>\n",
              "  <tbody>\n",
              "    <tr>\n",
              "      <th>0</th>\n",
              "      <td>Andhra Pradesh</td>\n",
              "      <td>31-05-2019</td>\n",
              "      <td>Monthly</td>\n",
              "      <td>3.65</td>\n",
              "      <td>11999139.0</td>\n",
              "      <td>43.24</td>\n",
              "      <td>Rural</td>\n",
              "    </tr>\n",
              "    <tr>\n",
              "      <th>1</th>\n",
              "      <td>Andhra Pradesh</td>\n",
              "      <td>30-06-2019</td>\n",
              "      <td>Monthly</td>\n",
              "      <td>3.05</td>\n",
              "      <td>11755881.0</td>\n",
              "      <td>42.05</td>\n",
              "      <td>Rural</td>\n",
              "    </tr>\n",
              "    <tr>\n",
              "      <th>2</th>\n",
              "      <td>Andhra Pradesh</td>\n",
              "      <td>31-07-2019</td>\n",
              "      <td>Monthly</td>\n",
              "      <td>3.75</td>\n",
              "      <td>12086707.0</td>\n",
              "      <td>43.50</td>\n",
              "      <td>Rural</td>\n",
              "    </tr>\n",
              "    <tr>\n",
              "      <th>3</th>\n",
              "      <td>Andhra Pradesh</td>\n",
              "      <td>31-08-2019</td>\n",
              "      <td>Monthly</td>\n",
              "      <td>3.32</td>\n",
              "      <td>12285693.0</td>\n",
              "      <td>43.97</td>\n",
              "      <td>Rural</td>\n",
              "    </tr>\n",
              "    <tr>\n",
              "      <th>4</th>\n",
              "      <td>Andhra Pradesh</td>\n",
              "      <td>30-09-2019</td>\n",
              "      <td>Monthly</td>\n",
              "      <td>5.17</td>\n",
              "      <td>12256762.0</td>\n",
              "      <td>44.68</td>\n",
              "      <td>Rural</td>\n",
              "    </tr>\n",
              "  </tbody>\n",
              "</table>\n",
              "</div>\n",
              "    <div class=\"colab-df-buttons\">\n",
              "\n",
              "  <div class=\"colab-df-container\">\n",
              "    <button class=\"colab-df-convert\" onclick=\"convertToInteractive('df-7376bb1f-d11c-49f0-a047-f63fbf54d613')\"\n",
              "            title=\"Convert this dataframe to an interactive table.\"\n",
              "            style=\"display:none;\">\n",
              "\n",
              "  <svg xmlns=\"http://www.w3.org/2000/svg\" height=\"24px\" viewBox=\"0 -960 960 960\">\n",
              "    <path d=\"M120-120v-720h720v720H120Zm60-500h600v-160H180v160Zm220 220h160v-160H400v160Zm0 220h160v-160H400v160ZM180-400h160v-160H180v160Zm440 0h160v-160H620v160ZM180-180h160v-160H180v160Zm440 0h160v-160H620v160Z\"/>\n",
              "  </svg>\n",
              "    </button>\n",
              "\n",
              "  <style>\n",
              "    .colab-df-container {\n",
              "      display:flex;\n",
              "      gap: 12px;\n",
              "    }\n",
              "\n",
              "    .colab-df-convert {\n",
              "      background-color: #E8F0FE;\n",
              "      border: none;\n",
              "      border-radius: 50%;\n",
              "      cursor: pointer;\n",
              "      display: none;\n",
              "      fill: #1967D2;\n",
              "      height: 32px;\n",
              "      padding: 0 0 0 0;\n",
              "      width: 32px;\n",
              "    }\n",
              "\n",
              "    .colab-df-convert:hover {\n",
              "      background-color: #E2EBFA;\n",
              "      box-shadow: 0px 1px 2px rgba(60, 64, 67, 0.3), 0px 1px 3px 1px rgba(60, 64, 67, 0.15);\n",
              "      fill: #174EA6;\n",
              "    }\n",
              "\n",
              "    .colab-df-buttons div {\n",
              "      margin-bottom: 4px;\n",
              "    }\n",
              "\n",
              "    [theme=dark] .colab-df-convert {\n",
              "      background-color: #3B4455;\n",
              "      fill: #D2E3FC;\n",
              "    }\n",
              "\n",
              "    [theme=dark] .colab-df-convert:hover {\n",
              "      background-color: #434B5C;\n",
              "      box-shadow: 0px 1px 3px 1px rgba(0, 0, 0, 0.15);\n",
              "      filter: drop-shadow(0px 1px 2px rgba(0, 0, 0, 0.3));\n",
              "      fill: #FFFFFF;\n",
              "    }\n",
              "  </style>\n",
              "\n",
              "    <script>\n",
              "      const buttonEl =\n",
              "        document.querySelector('#df-7376bb1f-d11c-49f0-a047-f63fbf54d613 button.colab-df-convert');\n",
              "      buttonEl.style.display =\n",
              "        google.colab.kernel.accessAllowed ? 'block' : 'none';\n",
              "\n",
              "      async function convertToInteractive(key) {\n",
              "        const element = document.querySelector('#df-7376bb1f-d11c-49f0-a047-f63fbf54d613');\n",
              "        const dataTable =\n",
              "          await google.colab.kernel.invokeFunction('convertToInteractive',\n",
              "                                                    [key], {});\n",
              "        if (!dataTable) return;\n",
              "\n",
              "        const docLinkHtml = 'Like what you see? Visit the ' +\n",
              "          '<a target=\"_blank\" href=https://colab.research.google.com/notebooks/data_table.ipynb>data table notebook</a>'\n",
              "          + ' to learn more about interactive tables.';\n",
              "        element.innerHTML = '';\n",
              "        dataTable['output_type'] = 'display_data';\n",
              "        await google.colab.output.renderOutput(dataTable, element);\n",
              "        const docLink = document.createElement('div');\n",
              "        docLink.innerHTML = docLinkHtml;\n",
              "        element.appendChild(docLink);\n",
              "      }\n",
              "    </script>\n",
              "  </div>\n",
              "\n",
              "\n",
              "<div id=\"df-3ee10a15-dec0-4777-a4dc-8134e6c646a9\">\n",
              "  <button class=\"colab-df-quickchart\" onclick=\"quickchart('df-3ee10a15-dec0-4777-a4dc-8134e6c646a9')\"\n",
              "            title=\"Suggest charts.\"\n",
              "            style=\"display:none;\">\n",
              "\n",
              "<svg xmlns=\"http://www.w3.org/2000/svg\" height=\"24px\"viewBox=\"0 0 24 24\"\n",
              "     width=\"24px\">\n",
              "    <g>\n",
              "        <path d=\"M19 3H5c-1.1 0-2 .9-2 2v14c0 1.1.9 2 2 2h14c1.1 0 2-.9 2-2V5c0-1.1-.9-2-2-2zM9 17H7v-7h2v7zm4 0h-2V7h2v10zm4 0h-2v-4h2v4z\"/>\n",
              "    </g>\n",
              "</svg>\n",
              "  </button>\n",
              "\n",
              "<style>\n",
              "  .colab-df-quickchart {\n",
              "      --bg-color: #E8F0FE;\n",
              "      --fill-color: #1967D2;\n",
              "      --hover-bg-color: #E2EBFA;\n",
              "      --hover-fill-color: #174EA6;\n",
              "      --disabled-fill-color: #AAA;\n",
              "      --disabled-bg-color: #DDD;\n",
              "  }\n",
              "\n",
              "  [theme=dark] .colab-df-quickchart {\n",
              "      --bg-color: #3B4455;\n",
              "      --fill-color: #D2E3FC;\n",
              "      --hover-bg-color: #434B5C;\n",
              "      --hover-fill-color: #FFFFFF;\n",
              "      --disabled-bg-color: #3B4455;\n",
              "      --disabled-fill-color: #666;\n",
              "  }\n",
              "\n",
              "  .colab-df-quickchart {\n",
              "    background-color: var(--bg-color);\n",
              "    border: none;\n",
              "    border-radius: 50%;\n",
              "    cursor: pointer;\n",
              "    display: none;\n",
              "    fill: var(--fill-color);\n",
              "    height: 32px;\n",
              "    padding: 0;\n",
              "    width: 32px;\n",
              "  }\n",
              "\n",
              "  .colab-df-quickchart:hover {\n",
              "    background-color: var(--hover-bg-color);\n",
              "    box-shadow: 0 1px 2px rgba(60, 64, 67, 0.3), 0 1px 3px 1px rgba(60, 64, 67, 0.15);\n",
              "    fill: var(--button-hover-fill-color);\n",
              "  }\n",
              "\n",
              "  .colab-df-quickchart-complete:disabled,\n",
              "  .colab-df-quickchart-complete:disabled:hover {\n",
              "    background-color: var(--disabled-bg-color);\n",
              "    fill: var(--disabled-fill-color);\n",
              "    box-shadow: none;\n",
              "  }\n",
              "\n",
              "  .colab-df-spinner {\n",
              "    border: 2px solid var(--fill-color);\n",
              "    border-color: transparent;\n",
              "    border-bottom-color: var(--fill-color);\n",
              "    animation:\n",
              "      spin 1s steps(1) infinite;\n",
              "  }\n",
              "\n",
              "  @keyframes spin {\n",
              "    0% {\n",
              "      border-color: transparent;\n",
              "      border-bottom-color: var(--fill-color);\n",
              "      border-left-color: var(--fill-color);\n",
              "    }\n",
              "    20% {\n",
              "      border-color: transparent;\n",
              "      border-left-color: var(--fill-color);\n",
              "      border-top-color: var(--fill-color);\n",
              "    }\n",
              "    30% {\n",
              "      border-color: transparent;\n",
              "      border-left-color: var(--fill-color);\n",
              "      border-top-color: var(--fill-color);\n",
              "      border-right-color: var(--fill-color);\n",
              "    }\n",
              "    40% {\n",
              "      border-color: transparent;\n",
              "      border-right-color: var(--fill-color);\n",
              "      border-top-color: var(--fill-color);\n",
              "    }\n",
              "    60% {\n",
              "      border-color: transparent;\n",
              "      border-right-color: var(--fill-color);\n",
              "    }\n",
              "    80% {\n",
              "      border-color: transparent;\n",
              "      border-right-color: var(--fill-color);\n",
              "      border-bottom-color: var(--fill-color);\n",
              "    }\n",
              "    90% {\n",
              "      border-color: transparent;\n",
              "      border-bottom-color: var(--fill-color);\n",
              "    }\n",
              "  }\n",
              "</style>\n",
              "\n",
              "  <script>\n",
              "    async function quickchart(key) {\n",
              "      const quickchartButtonEl =\n",
              "        document.querySelector('#' + key + ' button');\n",
              "      quickchartButtonEl.disabled = true;  // To prevent multiple clicks.\n",
              "      quickchartButtonEl.classList.add('colab-df-spinner');\n",
              "      try {\n",
              "        const charts = await google.colab.kernel.invokeFunction(\n",
              "            'suggestCharts', [key], {});\n",
              "      } catch (error) {\n",
              "        console.error('Error during call to suggestCharts:', error);\n",
              "      }\n",
              "      quickchartButtonEl.classList.remove('colab-df-spinner');\n",
              "      quickchartButtonEl.classList.add('colab-df-quickchart-complete');\n",
              "    }\n",
              "    (() => {\n",
              "      let quickchartButtonEl =\n",
              "        document.querySelector('#df-3ee10a15-dec0-4777-a4dc-8134e6c646a9 button');\n",
              "      quickchartButtonEl.style.display =\n",
              "        google.colab.kernel.accessAllowed ? 'block' : 'none';\n",
              "    })();\n",
              "  </script>\n",
              "</div>\n",
              "    </div>\n",
              "  </div>\n"
            ],
            "application/vnd.google.colaboratory.module+javascript": "\n      import \"https://ssl.gstatic.com/colaboratory/data_table/881c4a0d49046431/data_table.js\";\n\n      const table = window.createDataTable({\n        data: [[{\n            'v': 0,\n            'f': \"0\",\n        },\n\"Andhra Pradesh\",\n\" 31-05-2019\",\n\" Monthly\",\n{\n            'v': 3.65,\n            'f': \"3.65\",\n        },\n{\n            'v': 11999139.0,\n            'f': \"11999139.0\",\n        },\n{\n            'v': 43.24,\n            'f': \"43.24\",\n        },\n\"Rural\"],\n [{\n            'v': 1,\n            'f': \"1\",\n        },\n\"Andhra Pradesh\",\n\" 30-06-2019\",\n\" Monthly\",\n{\n            'v': 3.05,\n            'f': \"3.05\",\n        },\n{\n            'v': 11755881.0,\n            'f': \"11755881.0\",\n        },\n{\n            'v': 42.05,\n            'f': \"42.05\",\n        },\n\"Rural\"],\n [{\n            'v': 2,\n            'f': \"2\",\n        },\n\"Andhra Pradesh\",\n\" 31-07-2019\",\n\" Monthly\",\n{\n            'v': 3.75,\n            'f': \"3.75\",\n        },\n{\n            'v': 12086707.0,\n            'f': \"12086707.0\",\n        },\n{\n            'v': 43.5,\n            'f': \"43.5\",\n        },\n\"Rural\"],\n [{\n            'v': 3,\n            'f': \"3\",\n        },\n\"Andhra Pradesh\",\n\" 31-08-2019\",\n\" Monthly\",\n{\n            'v': 3.32,\n            'f': \"3.32\",\n        },\n{\n            'v': 12285693.0,\n            'f': \"12285693.0\",\n        },\n{\n            'v': 43.97,\n            'f': \"43.97\",\n        },\n\"Rural\"],\n [{\n            'v': 4,\n            'f': \"4\",\n        },\n\"Andhra Pradesh\",\n\" 30-09-2019\",\n\" Monthly\",\n{\n            'v': 5.17,\n            'f': \"5.17\",\n        },\n{\n            'v': 12256762.0,\n            'f': \"12256762.0\",\n        },\n{\n            'v': 44.68,\n            'f': \"44.68\",\n        },\n\"Rural\"]],\n        columns: [[\"number\", \"index\"], [\"string\", \"Region\"], [\"string\", \" Date\"], [\"string\", \" Frequency\"], [\"number\", \" Estimated Unemployment Rate (%)\"], [\"number\", \" Estimated Employed\"], [\"number\", \" Estimated Labour Participation Rate (%)\"], [\"string\", \"Area\"]],\n        columnOptions: [{\"width\": \"1px\", \"className\": \"index_column\"}],\n        rowsPerPage: 25,\n        helpUrl: \"https://colab.research.google.com/notebooks/data_table.ipynb\",\n        suppressOutputScrolling: true,\n        minimumWidth: undefined,\n      });\n\n      function appendQuickchartButton(parentElement) {\n        let quickchartButtonContainerElement = document.createElement('div');\n        quickchartButtonContainerElement.innerHTML = `\n<div id=\"df-d82c3d47-f05a-497f-b497-140c1fca36d9\">\n  <button class=\"colab-df-quickchart\" onclick=\"quickchart('df-d82c3d47-f05a-497f-b497-140c1fca36d9')\"\n            title=\"Suggest charts.\"\n            style=\"display:none;\">\n    \n<svg xmlns=\"http://www.w3.org/2000/svg\" height=\"24px\"viewBox=\"0 0 24 24\"\n     width=\"24px\">\n    <g>\n        <path d=\"M19 3H5c-1.1 0-2 .9-2 2v14c0 1.1.9 2 2 2h14c1.1 0 2-.9 2-2V5c0-1.1-.9-2-2-2zM9 17H7v-7h2v7zm4 0h-2V7h2v10zm4 0h-2v-4h2v4z\"/>\n    </g>\n</svg>\n  </button>\n  \n<style>\n  .colab-df-quickchart {\n      --bg-color: #E8F0FE;\n      --fill-color: #1967D2;\n      --hover-bg-color: #E2EBFA;\n      --hover-fill-color: #174EA6;\n      --disabled-fill-color: #AAA;\n      --disabled-bg-color: #DDD;\n  }\n\n  [theme=dark] .colab-df-quickchart {\n      --bg-color: #3B4455;\n      --fill-color: #D2E3FC;\n      --hover-bg-color: #434B5C;\n      --hover-fill-color: #FFFFFF;\n      --disabled-bg-color: #3B4455;\n      --disabled-fill-color: #666;\n  }\n\n  .colab-df-quickchart {\n    background-color: var(--bg-color);\n    border: none;\n    border-radius: 50%;\n    cursor: pointer;\n    display: none;\n    fill: var(--fill-color);\n    height: 32px;\n    padding: 0;\n    width: 32px;\n  }\n\n  .colab-df-quickchart:hover {\n    background-color: var(--hover-bg-color);\n    box-shadow: 0 1px 2px rgba(60, 64, 67, 0.3), 0 1px 3px 1px rgba(60, 64, 67, 0.15);\n    fill: var(--button-hover-fill-color);\n  }\n\n  .colab-df-quickchart-complete:disabled,\n  .colab-df-quickchart-complete:disabled:hover {\n    background-color: var(--disabled-bg-color);\n    fill: var(--disabled-fill-color);\n    box-shadow: none;\n  }\n\n  .colab-df-spinner {\n    border: 2px solid var(--fill-color);\n    border-color: transparent;\n    border-bottom-color: var(--fill-color);\n    animation:\n      spin 1s steps(1) infinite;\n  }\n\n  @keyframes spin {\n    0% {\n      border-color: transparent;\n      border-bottom-color: var(--fill-color);\n      border-left-color: var(--fill-color);\n    }\n    20% {\n      border-color: transparent;\n      border-left-color: var(--fill-color);\n      border-top-color: var(--fill-color);\n    }\n    30% {\n      border-color: transparent;\n      border-left-color: var(--fill-color);\n      border-top-color: var(--fill-color);\n      border-right-color: var(--fill-color);\n    }\n    40% {\n      border-color: transparent;\n      border-right-color: var(--fill-color);\n      border-top-color: var(--fill-color);\n    }\n    60% {\n      border-color: transparent;\n      border-right-color: var(--fill-color);\n    }\n    80% {\n      border-color: transparent;\n      border-right-color: var(--fill-color);\n      border-bottom-color: var(--fill-color);\n    }\n    90% {\n      border-color: transparent;\n      border-bottom-color: var(--fill-color);\n    }\n  }\n</style>\n\n  <script>\n    async function quickchart(key) {\n      const quickchartButtonEl =\n        document.querySelector('#' + key + ' button');\n      quickchartButtonEl.disabled = true;  // To prevent multiple clicks.\n      quickchartButtonEl.classList.add('colab-df-spinner');\n      try {\n        const charts = await google.colab.kernel.invokeFunction(\n            'suggestCharts', [key], {});\n      } catch (error) {\n        console.error('Error during call to suggestCharts:', error);\n      }\n      quickchartButtonEl.classList.remove('colab-df-spinner');\n      quickchartButtonEl.classList.add('colab-df-quickchart-complete');\n    }\n    (() => {\n      let quickchartButtonEl =\n        document.querySelector('#df-d82c3d47-f05a-497f-b497-140c1fca36d9 button');\n      quickchartButtonEl.style.display =\n        google.colab.kernel.accessAllowed ? 'block' : 'none';\n    })();\n  </script>\n</div>`;\n        parentElement.appendChild(quickchartButtonContainerElement);\n      }\n\n      appendQuickchartButton(table);\n    "
          },
          "metadata": {},
          "execution_count": 15
        }
      ]
    },
    {
      "cell_type": "code",
      "source": [
        "df_unemp.dtypes"
      ],
      "metadata": {
        "colab": {
          "base_uri": "https://localhost:8080/"
        },
        "id": "cUVwRq7gmHz2",
        "outputId": "21ed4796-6823-4fe2-b643-8b203dde342a"
      },
      "execution_count": null,
      "outputs": [
        {
          "output_type": "execute_result",
          "data": {
            "text/plain": [
              "Region                                       object\n",
              " Date                                        object\n",
              " Frequency                                   object\n",
              " Estimated Unemployment Rate (%)            float64\n",
              " Estimated Employed                         float64\n",
              " Estimated Labour Participation Rate (%)    float64\n",
              "Area                                         object\n",
              "dtype: object"
            ]
          },
          "metadata": {},
          "execution_count": 16
        }
      ]
    },
    {
      "cell_type": "code",
      "source": [
        "df_unemp=df_unemp.rename(columns={'Region':'State'})"
      ],
      "metadata": {
        "id": "1rsTK1HUlcHC"
      },
      "execution_count": null,
      "outputs": []
    },
    {
      "cell_type": "code",
      "source": [
        "df_unemp['State'].nunique()"
      ],
      "metadata": {
        "colab": {
          "base_uri": "https://localhost:8080/"
        },
        "id": "fiqjsfrYUfrH",
        "outputId": "9512d63c-ca00-481c-f196-0e510b9a1846"
      },
      "execution_count": null,
      "outputs": [
        {
          "output_type": "execute_result",
          "data": {
            "text/plain": [
              "28"
            ]
          },
          "metadata": {},
          "execution_count": 18
        }
      ]
    },
    {
      "cell_type": "code",
      "source": [
        "#merge\n",
        "#njC1 = pd.merge(njC, zil1, on='COUNTY',how='outer',indicator=True)\n",
        "df_1 = pd.merge(Ind, df_unemp, on='State',how='outer',indicator=True)"
      ],
      "metadata": {
        "id": "zAblYpDuaXb4"
      },
      "execution_count": null,
      "outputs": []
    },
    {
      "cell_type": "code",
      "source": [
        "df_2 = pd.merge(Ind, df_unemp, on='State',how='inner',indicator=False)"
      ],
      "metadata": {
        "id": "vfY58DxtL2fy"
      },
      "execution_count": null,
      "outputs": []
    },
    {
      "cell_type": "code",
      "source": [
        "df_1.dtypes"
      ],
      "metadata": {
        "colab": {
          "base_uri": "https://localhost:8080/"
        },
        "id": "8l5gdEJvmm07",
        "outputId": "7fe61117-cd1b-45a1-f3f1-9e4eca700a21"
      },
      "execution_count": null,
      "outputs": [
        {
          "output_type": "execute_result",
          "data": {
            "text/plain": [
              "State                                         object\n",
              "geometry                                    geometry\n",
              " Date                                         object\n",
              " Frequency                                    object\n",
              " Estimated Unemployment Rate (%)             float64\n",
              " Estimated Employed                          float64\n",
              " Estimated Labour Participation Rate (%)     float64\n",
              "Area                                          object\n",
              "_merge                                      category\n",
              "dtype: object"
            ]
          },
          "metadata": {},
          "execution_count": 21
        }
      ]
    },
    {
      "cell_type": "markdown",
      "source": [
        "## Took relevant columns"
      ],
      "metadata": {
        "id": "c4Es2Dw7ukQW"
      }
    },
    {
      "cell_type": "code",
      "source": [
        "df_1 = df_1[['State',' Date',' Estimated Unemployment Rate (%)','Area','_merge','geometry']]"
      ],
      "metadata": {
        "id": "tIWGet-fnioa"
      },
      "execution_count": null,
      "outputs": []
    },
    {
      "cell_type": "code",
      "source": [
        "df_1 = df_1.iloc[2:]"
      ],
      "metadata": {
        "id": "htfrtNyJ8h4S"
      },
      "execution_count": null,
      "outputs": []
    },
    {
      "cell_type": "code",
      "source": [
        "df_1.shape"
      ],
      "metadata": {
        "colab": {
          "base_uri": "https://localhost:8080/"
        },
        "id": "RrqB5cdu-Q38",
        "outputId": "496b0aa0-59e7-488b-9dfd-7d0b0dbe8cfa"
      },
      "execution_count": null,
      "outputs": [
        {
          "output_type": "execute_result",
          "data": {
            "text/plain": [
              "(775, 6)"
            ]
          },
          "metadata": {},
          "execution_count": 24
        }
      ]
    },
    {
      "cell_type": "code",
      "source": [
        "fig, ax = plt.subplots(1, figsize=(10,12))\n",
        "df_1.plot(ax=ax,column=' Estimated Unemployment Rate (%)',legend=True,cmap='RdYlGn_r',\n",
        "          scheme='natural_breaks',k=4, edgecolor='grey',linewidth=0.5,\n",
        "          legend_kwds= {\"fmt\": \"{:,.0f}\",'loc':'lower right','markerscale':1.4})\n",
        "leg1 = ax.get_legend()\n",
        "ax.title.set_text(\"Unemployment Rate\")\n",
        "ax.set_xticks([]) #kills xticks\n",
        "ax.set_yticks([]) #kills xticks"
      ],
      "metadata": {
        "colab": {
          "base_uri": "https://localhost:8080/",
          "height": 950
        },
        "id": "LpzbC6U9-6R0",
        "outputId": "4c66e6d4-c733-4330-d47d-a24ed66ff9fe"
      },
      "execution_count": null,
      "outputs": [
        {
          "output_type": "execute_result",
          "data": {
            "text/plain": [
              "<Axes: >"
            ]
          },
          "metadata": {},
          "execution_count": 25
        },
        {
          "output_type": "execute_result",
          "data": {
            "text/plain": [
              "[]"
            ]
          },
          "metadata": {},
          "execution_count": 25
        },
        {
          "output_type": "execute_result",
          "data": {
            "text/plain": [
              "[]"
            ]
          },
          "metadata": {},
          "execution_count": 25
        },
        {
          "output_type": "display_data",
          "data": {
            "text/plain": [
              "<Figure size 1000x1200 with 1 Axes>"
            ],
            "image/png": "[encoded data removed]"
          },
          "metadata": {}
        }
      ]
    },
    {
      "cell_type": "markdown",
      "source": [
        "##MAP 2\n",
        "Literacy rate"
      ],
      "metadata": {
        "id": "zAIXpsptLnsB"
      }
    },
    {
      "cell_type": "code",
      "source": [
        "! wget -q -O lit_df.csv \"https://drive.google.com/uc?id=1o9gOvKIMbAIKk5HBHGfBPh3DY617TiEW&export=download\""
      ],
      "metadata": {
        "id": "fTbQFizhGYNu"
      },
      "execution_count": null,
      "outputs": []
    },
    {
      "cell_type": "code",
      "source": [
        "df_literacy = pd.read_csv(\"lit_df.csv\")"
      ],
      "metadata": {
        "id": "PFLhcvHMO5cb"
      },
      "execution_count": null,
      "outputs": []
    },
    {
      "cell_type": "code",
      "source": [
        "df_literacy.head()"
      ],
      "metadata": {
        "colab": {
          "base_uri": "https://localhost:8080/",
          "height": 252
        },
        "id": "LbQ0KHB-TWqK",
        "outputId": "8a62e82f-50f7-4d00-9097-26e0ac8f16aa"
      },
      "execution_count": null,
      "outputs": [
        {
          "output_type": "execute_result",
          "data": {
            "text/plain": [
              "  Category Country/ States/ Union Territories Name  \\\n",
              "0  Country                                   INDIA   \n",
              "1    State                          Andhra Pradesh   \n",
              "2    State                       Arunachal Pradesh   \n",
              "3    State                                   Assam   \n",
              "4    State                                   Bihar   \n",
              "\n",
              "   Literacy Rate (Persons) - Total - 2019  \\\n",
              "0                                    64.8   \n",
              "1                                    60.5   \n",
              "2                                    54.3   \n",
              "3                                    63.3   \n",
              "4                                    47.0   \n",
              "\n",
              "   Literacy Rate (Persons) - Total - 2019.1  \\\n",
              "0                                      73.0   \n",
              "1                                      67.0   \n",
              "2                                      65.4   \n",
              "3                                      72.2   \n",
              "4                                      61.8   \n",
              "\n",
              "   Literacy Rate (Persons) - Rural - 2019  \\\n",
              "0                                    58.7   \n",
              "1                                    54.5   \n",
              "2                                    47.8   \n",
              "3                                    59.7   \n",
              "4                                    43.9   \n",
              "\n",
              "   Literacy Rate (Persons) - Rural - 2019.1  \\\n",
              "0                                      67.8   \n",
              "1                                      60.4   \n",
              "2                                      59.9   \n",
              "3                                      69.3   \n",
              "4                                      59.8   \n",
              "\n",
              "   Literacy Rate (Persons) - Urban - 2019  \\\n",
              "0                                    79.9   \n",
              "1                                    76.1   \n",
              "2                                    78.3   \n",
              "3                                    85.3   \n",
              "4                                    71.9   \n",
              "\n",
              "   Literacy Rate (Persons) - Urban - 2019.1  \n",
              "0                                      84.1  \n",
              "1                                      80.1  \n",
              "2                                      82.9  \n",
              "3                                      88.5  \n",
              "4                                      76.9  "
            ],
            "text/html": [
              "\n",
              "  <div id=\"df-f7d9c0e2-ee05-48d5-a685-7847497aa4e8\" class=\"colab-df-container\">\n",
              "    <div>\n",
              "<style scoped>\n",
              "    .dataframe tbody tr th:only-of-type {\n",
              "        vertical-align: middle;\n",
              "    }\n",
              "\n",
              "    .dataframe tbody tr th {\n",
              "        vertical-align: top;\n",
              "    }\n",
              "\n",
              "    .dataframe thead th {\n",
              "        text-align: right;\n",
              "    }\n",
              "</style>\n",
              "<table border=\"1\" class=\"dataframe\">\n",
              "  <thead>\n",
              "    <tr style=\"text-align: right;\">\n",
              "      <th></th>\n",
              "      <th>Category</th>\n",
              "      <th>Country/ States/ Union Territories Name</th>\n",
              "      <th>Literacy Rate (Persons) - Total - 2019</th>\n",
              "      <th>Literacy Rate (Persons) - Total - 2019.1</th>\n",
              "      <th>Literacy Rate (Persons) - Rural - 2019</th>\n",
              "      <th>Literacy Rate (Persons) - Rural - 2019.1</th>\n",
              "      <th>Literacy Rate (Persons) - Urban - 2019</th>\n",
              "      <th>Literacy Rate (Persons) - Urban - 2019.1</th>\n",
              "    </tr>\n",
              "  </thead>\n",
              "  <tbody>\n",
              "    <tr>\n",
              "      <th>0</th>\n",
              "      <td>Country</td>\n",
              "      <td>INDIA</td>\n",
              "      <td>64.8</td>\n",
              "      <td>73.0</td>\n",
              "      <td>58.7</td>\n",
              "      <td>67.8</td>\n",
              "      <td>79.9</td>\n",
              "      <td>84.1</td>\n",
              "    </tr>\n",
              "    <tr>\n",
              "      <th>1</th>\n",
              "      <td>State</td>\n",
              "      <td>Andhra Pradesh</td>\n",
              "      <td>60.5</td>\n",
              "      <td>67.0</td>\n",
              "      <td>54.5</td>\n",
              "      <td>60.4</td>\n",
              "      <td>76.1</td>\n",
              "      <td>80.1</td>\n",
              "    </tr>\n",
              "    <tr>\n",
              "      <th>2</th>\n",
              "      <td>State</td>\n",
              "      <td>Arunachal Pradesh</td>\n",
              "      <td>54.3</td>\n",
              "      <td>65.4</td>\n",
              "      <td>47.8</td>\n",
              "      <td>59.9</td>\n",
              "      <td>78.3</td>\n",
              "      <td>82.9</td>\n",
              "    </tr>\n",
              "    <tr>\n",
              "      <th>3</th>\n",
              "      <td>State</td>\n",
              "      <td>Assam</td>\n",
              "      <td>63.3</td>\n",
              "      <td>72.2</td>\n",
              "      <td>59.7</td>\n",
              "      <td>69.3</td>\n",
              "      <td>85.3</td>\n",
              "      <td>88.5</td>\n",
              "    </tr>\n",
              "    <tr>\n",
              "      <th>4</th>\n",
              "      <td>State</td>\n",
              "      <td>Bihar</td>\n",
              "      <td>47.0</td>\n",
              "      <td>61.8</td>\n",
              "      <td>43.9</td>\n",
              "      <td>59.8</td>\n",
              "      <td>71.9</td>\n",
              "      <td>76.9</td>\n",
              "    </tr>\n",
              "  </tbody>\n",
              "</table>\n",
              "</div>\n",
              "    <div class=\"colab-df-buttons\">\n",
              "\n",
              "  <div class=\"colab-df-container\">\n",
              "    <button class=\"colab-df-convert\" onclick=\"convertToInteractive('df-f7d9c0e2-ee05-48d5-a685-7847497aa4e8')\"\n",
              "            title=\"Convert this dataframe to an interactive table.\"\n",
              "            style=\"display:none;\">\n",
              "\n",
              "  <svg xmlns=\"http://www.w3.org/2000/svg\" height=\"24px\" viewBox=\"0 -960 960 960\">\n",
              "    <path d=\"M120-120v-720h720v720H120Zm60-500h600v-160H180v160Zm220 220h160v-160H400v160Zm0 220h160v-160H400v160ZM180-400h160v-160H180v160Zm440 0h160v-160H620v160ZM180-180h160v-160H180v160Zm440 0h160v-160H620v160Z\"/>\n",
              "  </svg>\n",
              "    </button>\n",
              "\n",
              "  <style>\n",
              "    .colab-df-container {\n",
              "      display:flex;\n",
              "      gap: 12px;\n",
              "    }\n",
              "\n",
              "    .colab-df-convert {\n",
              "      background-color: #E8F0FE;\n",
              "      border: none;\n",
              "      border-radius: 50%;\n",
              "      cursor: pointer;\n",
              "      display: none;\n",
              "      fill: #1967D2;\n",
              "      height: 32px;\n",
              "      padding: 0 0 0 0;\n",
              "      width: 32px;\n",
              "    }\n",
              "\n",
              "    .colab-df-convert:hover {\n",
              "      background-color: #E2EBFA;\n",
              "      box-shadow: 0px 1px 2px rgba(60, 64, 67, 0.3), 0px 1px 3px 1px rgba(60, 64, 67, 0.15);\n",
              "      fill: #174EA6;\n",
              "    }\n",
              "\n",
              "    .colab-df-buttons div {\n",
              "      margin-bottom: 4px;\n",
              "    }\n",
              "\n",
              "    [theme=dark] .colab-df-convert {\n",
              "      background-color: #3B4455;\n",
              "      fill: #D2E3FC;\n",
              "    }\n",
              "\n",
              "    [theme=dark] .colab-df-convert:hover {\n",
              "      background-color: #434B5C;\n",
              "      box-shadow: 0px 1px 3px 1px rgba(0, 0, 0, 0.15);\n",
              "      filter: drop-shadow(0px 1px 2px rgba(0, 0, 0, 0.3));\n",
              "      fill: #FFFFFF;\n",
              "    }\n",
              "  </style>\n",
              "\n",
              "    <script>\n",
              "      const buttonEl =\n",
              "        document.querySelector('#df-f7d9c0e2-ee05-48d5-a685-7847497aa4e8 button.colab-df-convert');\n",
              "      buttonEl.style.display =\n",
              "        google.colab.kernel.accessAllowed ? 'block' : 'none';\n",
              "\n",
              "      async function convertToInteractive(key) {\n",
              "        const element = document.querySelector('#df-f7d9c0e2-ee05-48d5-a685-7847497aa4e8');\n",
              "        const dataTable =\n",
              "          await google.colab.kernel.invokeFunction('convertToInteractive',\n",
              "                                                    [key], {});\n",
              "        if (!dataTable) return;\n",
              "\n",
              "        const docLinkHtml = 'Like what you see? Visit the ' +\n",
              "          '<a target=\"_blank\" href=https://colab.research.google.com/notebooks/data_table.ipynb>data table notebook</a>'\n",
              "          + ' to learn more about interactive tables.';\n",
              "        element.innerHTML = '';\n",
              "        dataTable['output_type'] = 'display_data';\n",
              "        await google.colab.output.renderOutput(dataTable, element);\n",
              "        const docLink = document.createElement('div');\n",
              "        docLink.innerHTML = docLinkHtml;\n",
              "        element.appendChild(docLink);\n",
              "      }\n",
              "    </script>\n",
              "  </div>\n",
              "\n",
              "\n",
              "<div id=\"df-a72944fe-379c-4776-8e49-e877bdbe28e4\">\n",
              "  <button class=\"colab-df-quickchart\" onclick=\"quickchart('df-a72944fe-379c-4776-8e49-e877bdbe28e4')\"\n",
              "            title=\"Suggest charts.\"\n",
              "            style=\"display:none;\">\n",
              "\n",
              "<svg xmlns=\"http://www.w3.org/2000/svg\" height=\"24px\"viewBox=\"0 0 24 24\"\n",
              "     width=\"24px\">\n",
              "    <g>\n",
              "        <path d=\"M19 3H5c-1.1 0-2 .9-2 2v14c0 1.1.9 2 2 2h14c1.1 0 2-.9 2-2V5c0-1.1-.9-2-2-2zM9 17H7v-7h2v7zm4 0h-2V7h2v10zm4 0h-2v-4h2v4z\"/>\n",
              "    </g>\n",
              "</svg>\n",
              "  </button>\n",
              "\n",
              "<style>\n",
              "  .colab-df-quickchart {\n",
              "      --bg-color: #E8F0FE;\n",
              "      --fill-color: #1967D2;\n",
              "      --hover-bg-color: #E2EBFA;\n",
              "      --hover-fill-color: #174EA6;\n",
              "      --disabled-fill-color: #AAA;\n",
              "      --disabled-bg-color: #DDD;\n",
              "  }\n",
              "\n",
              "  [theme=dark] .colab-df-quickchart {\n",
              "      --bg-color: #3B4455;\n",
              "      --fill-color: #D2E3FC;\n",
              "      --hover-bg-color: #434B5C;\n",
              "      --hover-fill-color: #FFFFFF;\n",
              "      --disabled-bg-color: #3B4455;\n",
              "      --disabled-fill-color: #666;\n",
              "  }\n",
              "\n",
              "  .colab-df-quickchart {\n",
              "    background-color: var(--bg-color);\n",
              "    border: none;\n",
              "    border-radius: 50%;\n",
              "    cursor: pointer;\n",
              "    display: none;\n",
              "    fill: var(--fill-color);\n",
              "    height: 32px;\n",
              "    padding: 0;\n",
              "    width: 32px;\n",
              "  }\n",
              "\n",
              "  .colab-df-quickchart:hover {\n",
              "    background-color: var(--hover-bg-color);\n",
              "    box-shadow: 0 1px 2px rgba(60, 64, 67, 0.3), 0 1px 3px 1px rgba(60, 64, 67, 0.15);\n",
              "    fill: var(--button-hover-fill-color);\n",
              "  }\n",
              "\n",
              "  .colab-df-quickchart-complete:disabled,\n",
              "  .colab-df-quickchart-complete:disabled:hover {\n",
              "    background-color: var(--disabled-bg-color);\n",
              "    fill: var(--disabled-fill-color);\n",
              "    box-shadow: none;\n",
              "  }\n",
              "\n",
              "  .colab-df-spinner {\n",
              "    border: 2px solid var(--fill-color);\n",
              "    border-color: transparent;\n",
              "    border-bottom-color: var(--fill-color);\n",
              "    animation:\n",
              "      spin 1s steps(1) infinite;\n",
              "  }\n",
              "\n",
              "  @keyframes spin {\n",
              "    0% {\n",
              "      border-color: transparent;\n",
              "      border-bottom-color: var(--fill-color);\n",
              "      border-left-color: var(--fill-color);\n",
              "    }\n",
              "    20% {\n",
              "      border-color: transparent;\n",
              "      border-left-color: var(--fill-color);\n",
              "      border-top-color: var(--fill-color);\n",
              "    }\n",
              "    30% {\n",
              "      border-color: transparent;\n",
              "      border-left-color: var(--fill-color);\n",
              "      border-top-color: var(--fill-color);\n",
              "      border-right-color: var(--fill-color);\n",
              "    }\n",
              "    40% {\n",
              "      border-color: transparent;\n",
              "      border-right-color: var(--fill-color);\n",
              "      border-top-color: var(--fill-color);\n",
              "    }\n",
              "    60% {\n",
              "      border-color: transparent;\n",
              "      border-right-color: var(--fill-color);\n",
              "    }\n",
              "    80% {\n",
              "      border-color: transparent;\n",
              "      border-right-color: var(--fill-color);\n",
              "      border-bottom-color: var(--fill-color);\n",
              "    }\n",
              "    90% {\n",
              "      border-color: transparent;\n",
              "      border-bottom-color: var(--fill-color);\n",
              "    }\n",
              "  }\n",
              "</style>\n",
              "\n",
              "  <script>\n",
              "    async function quickchart(key) {\n",
              "      const quickchartButtonEl =\n",
              "        document.querySelector('#' + key + ' button');\n",
              "      quickchartButtonEl.disabled = true;  // To prevent multiple clicks.\n",
              "      quickchartButtonEl.classList.add('colab-df-spinner');\n",
              "      try {\n",
              "        const charts = await google.colab.kernel.invokeFunction(\n",
              "            'suggestCharts', [key], {});\n",
              "      } catch (error) {\n",
              "        console.error('Error during call to suggestCharts:', error);\n",
              "      }\n",
              "      quickchartButtonEl.classList.remove('colab-df-spinner');\n",
              "      quickchartButtonEl.classList.add('colab-df-quickchart-complete');\n",
              "    }\n",
              "    (() => {\n",
              "      let quickchartButtonEl =\n",
              "        document.querySelector('#df-a72944fe-379c-4776-8e49-e877bdbe28e4 button');\n",
              "      quickchartButtonEl.style.display =\n",
              "        google.colab.kernel.accessAllowed ? 'block' : 'none';\n",
              "    })();\n",
              "  </script>\n",
              "</div>\n",
              "    </div>\n",
              "  </div>\n"
            ],
            "application/vnd.google.colaboratory.module+javascript": "\n      import \"https://ssl.gstatic.com/colaboratory/data_table/881c4a0d49046431/data_table.js\";\n\n      const table = window.createDataTable({\n        data: [[{\n            'v': 0,\n            'f': \"0\",\n        },\n\"Country\",\n\"INDIA\",\n{\n            'v': 64.8,\n            'f': \"64.8\",\n        },\n{\n            'v': 73.0,\n            'f': \"73.0\",\n        },\n{\n            'v': 58.7,\n            'f': \"58.7\",\n        },\n{\n            'v': 67.8,\n            'f': \"67.8\",\n        },\n{\n            'v': 79.9,\n            'f': \"79.9\",\n        },\n{\n            'v': 84.1,\n            'f': \"84.1\",\n        }],\n [{\n            'v': 1,\n            'f': \"1\",\n        },\n\"State\",\n\"Andhra Pradesh\",\n{\n            'v': 60.5,\n            'f': \"60.5\",\n        },\n{\n            'v': 67.0,\n            'f': \"67.0\",\n        },\n{\n            'v': 54.5,\n            'f': \"54.5\",\n        },\n{\n            'v': 60.4,\n            'f': \"60.4\",\n        },\n{\n            'v': 76.1,\n            'f': \"76.1\",\n        },\n{\n            'v': 80.1,\n            'f': \"80.1\",\n        }],\n [{\n            'v': 2,\n            'f': \"2\",\n        },\n\"State\",\n\"Arunachal Pradesh\",\n{\n            'v': 54.3,\n            'f': \"54.3\",\n        },\n{\n            'v': 65.4,\n            'f': \"65.4\",\n        },\n{\n            'v': 47.8,\n            'f': \"47.8\",\n        },\n{\n            'v': 59.9,\n            'f': \"59.9\",\n        },\n{\n            'v': 78.3,\n            'f': \"78.3\",\n        },\n{\n            'v': 82.9,\n            'f': \"82.9\",\n        }],\n [{\n            'v': 3,\n            'f': \"3\",\n        },\n\"State\",\n\"Assam\",\n{\n            'v': 63.3,\n            'f': \"63.3\",\n        },\n{\n            'v': 72.2,\n            'f': \"72.2\",\n        },\n{\n            'v': 59.7,\n            'f': \"59.7\",\n        },\n{\n            'v': 69.3,\n            'f': \"69.3\",\n        },\n{\n            'v': 85.3,\n            'f': \"85.3\",\n        },\n{\n            'v': 88.5,\n            'f': \"88.5\",\n        }],\n [{\n            'v': 4,\n            'f': \"4\",\n        },\n\"State\",\n\"Bihar\",\n{\n            'v': 47.0,\n            'f': \"47.0\",\n        },\n{\n            'v': 61.8,\n            'f': \"61.8\",\n        },\n{\n            'v': 43.9,\n            'f': \"43.9\",\n        },\n{\n            'v': 59.8,\n            'f': \"59.8\",\n        },\n{\n            'v': 71.9,\n            'f': \"71.9\",\n        },\n{\n            'v': 76.9,\n            'f': \"76.9\",\n        }]],\n        columns: [[\"number\", \"index\"], [\"string\", \"Category\"], [\"string\", \"Country/ States/ Union Territories Name\"], [\"number\", \"Literacy Rate (Persons) - Total - 2019\"], [\"number\", \"Literacy Rate (Persons) - Total - 2019.1\"], [\"number\", \"Literacy Rate (Persons) - Rural - 2019\"], [\"number\", \"Literacy Rate (Persons) - Rural - 2019.1\"], [\"number\", \"Literacy Rate (Persons) - Urban - 2019\"], [\"number\", \"Literacy Rate (Persons) - Urban - 2019.1\"]],\n        columnOptions: [{\"width\": \"1px\", \"className\": \"index_column\"}],\n        rowsPerPage: 25,\n        helpUrl: \"https://colab.research.google.com/notebooks/data_table.ipynb\",\n        suppressOutputScrolling: true,\n        minimumWidth: undefined,\n      });\n\n      function appendQuickchartButton(parentElement) {\n        let quickchartButtonContainerElement = document.createElement('div');\n        quickchartButtonContainerElement.innerHTML = `\n<div id=\"df-1bbc3067-5daf-4b43-88e7-03c3d79fc966\">\n  <button class=\"colab-df-quickchart\" onclick=\"quickchart('df-1bbc3067-5daf-4b43-88e7-03c3d79fc966')\"\n            title=\"Suggest charts.\"\n            style=\"display:none;\">\n    \n<svg xmlns=\"http://www.w3.org/2000/svg\" height=\"24px\"viewBox=\"0 0 24 24\"\n     width=\"24px\">\n    <g>\n        <path d=\"M19 3H5c-1.1 0-2 .9-2 2v14c0 1.1.9 2 2 2h14c1.1 0 2-.9 2-2V5c0-1.1-.9-2-2-2zM9 17H7v-7h2v7zm4 0h-2V7h2v10zm4 0h-2v-4h2v4z\"/>\n    </g>\n</svg>\n  </button>\n  \n<style>\n  .colab-df-quickchart {\n      --bg-color: #E8F0FE;\n      --fill-color: #1967D2;\n      --hover-bg-color: #E2EBFA;\n      --hover-fill-color: #174EA6;\n      --disabled-fill-color: #AAA;\n      --disabled-bg-color: #DDD;\n  }\n\n  [theme=dark] .colab-df-quickchart {\n      --bg-color: #3B4455;\n      --fill-color: #D2E3FC;\n      --hover-bg-color: #434B5C;\n      --hover-fill-color: #FFFFFF;\n      --disabled-bg-color: #3B4455;\n      --disabled-fill-color: #666;\n  }\n\n  .colab-df-quickchart {\n    background-color: var(--bg-color);\n    border: none;\n    border-radius: 50%;\n    cursor: pointer;\n    display: none;\n    fill: var(--fill-color);\n    height: 32px;\n    padding: 0;\n    width: 32px;\n  }\n\n  .colab-df-quickchart:hover {\n    background-color: var(--hover-bg-color);\n    box-shadow: 0 1px 2px rgba(60, 64, 67, 0.3), 0 1px 3px 1px rgba(60, 64, 67, 0.15);\n    fill: var(--button-hover-fill-color);\n  }\n\n  .colab-df-quickchart-complete:disabled,\n  .colab-df-quickchart-complete:disabled:hover {\n    background-color: var(--disabled-bg-color);\n    fill: var(--disabled-fill-color);\n    box-shadow: none;\n  }\n\n  .colab-df-spinner {\n    border: 2px solid var(--fill-color);\n    border-color: transparent;\n    border-bottom-color: var(--fill-color);\n    animation:\n      spin 1s steps(1) infinite;\n  }\n\n  @keyframes spin {\n    0% {\n      border-color: transparent;\n      border-bottom-color: var(--fill-color);\n      border-left-color: var(--fill-color);\n    }\n    20% {\n      border-color: transparent;\n      border-left-color: var(--fill-color);\n      border-top-color: var(--fill-color);\n    }\n    30% {\n      border-color: transparent;\n      border-left-color: var(--fill-color);\n      border-top-color: var(--fill-color);\n      border-right-color: var(--fill-color);\n    }\n    40% {\n      border-color: transparent;\n      border-right-color: var(--fill-color);\n      border-top-color: var(--fill-color);\n    }\n    60% {\n      border-color: transparent;\n      border-right-color: var(--fill-color);\n    }\n    80% {\n      border-color: transparent;\n      border-right-color: var(--fill-color);\n      border-bottom-color: var(--fill-color);\n    }\n    90% {\n      border-color: transparent;\n      border-bottom-color: var(--fill-color);\n    }\n  }\n</style>\n\n  <script>\n    async function quickchart(key) {\n      const quickchartButtonEl =\n        document.querySelector('#' + key + ' button');\n      quickchartButtonEl.disabled = true;  // To prevent multiple clicks.\n      quickchartButtonEl.classList.add('colab-df-spinner');\n      try {\n        const charts = await google.colab.kernel.invokeFunction(\n            'suggestCharts', [key], {});\n      } catch (error) {\n        console.error('Error during call to suggestCharts:', error);\n      }\n      quickchartButtonEl.classList.remove('colab-df-spinner');\n      quickchartButtonEl.classList.add('colab-df-quickchart-complete');\n    }\n    (() => {\n      let quickchartButtonEl =\n        document.querySelector('#df-1bbc3067-5daf-4b43-88e7-03c3d79fc966 button');\n      quickchartButtonEl.style.display =\n        google.colab.kernel.accessAllowed ? 'block' : 'none';\n    })();\n  </script>\n</div>`;\n        parentElement.appendChild(quickchartButtonContainerElement);\n      }\n\n      appendQuickchartButton(table);\n    "
          },
          "metadata": {},
          "execution_count": 54
        }
      ]
    },
    {
      "cell_type": "code",
      "source": [
        "df_literacy.dtypes"
      ],
      "metadata": {
        "colab": {
          "base_uri": "https://localhost:8080/"
        },
        "id": "UJ6dovghTY44",
        "outputId": "0d523059-7233-4e41-8879-c688e05fc223"
      },
      "execution_count": null,
      "outputs": [
        {
          "output_type": "execute_result",
          "data": {
            "text/plain": [
              "Category                                     object\n",
              "Country/ States/ Union Territories Name      object\n",
              "Literacy Rate (Persons) - Total - 2019      float64\n",
              "Literacy Rate (Persons) - Total - 2019.1    float64\n",
              "Literacy Rate (Persons) - Rural - 2019      float64\n",
              "Literacy Rate (Persons) - Rural - 2019.1    float64\n",
              "Literacy Rate (Persons) - Urban - 2019      float64\n",
              "Literacy Rate (Persons) - Urban - 2019.1    float64\n",
              "dtype: object"
            ]
          },
          "metadata": {},
          "execution_count": 55
        }
      ]
    },
    {
      "cell_type": "code",
      "source": [
        "df_literacy.rename(columns= {'Country/ States/ Union Territories Name' : 'State','Literacy Rate (Persons) - Total - 2019' : 'Literacy_rate'}, inplace=True)\n",
        "df_literacy.head(10)"
      ],
      "metadata": {
        "colab": {
          "base_uri": "https://localhost:8080/",
          "height": 390
        },
        "id": "NKtZ_hbHTyhe",
        "outputId": "b373705b-6ba8-4e84-f1db-ca31f29b0359"
      },
      "execution_count": null,
      "outputs": [
        {
          "output_type": "execute_result",
          "data": {
            "text/plain": [
              "  Category              State  Literacy_rate  \\\n",
              "0  Country              INDIA           64.8   \n",
              "1    State     Andhra Pradesh           60.5   \n",
              "2    State  Arunachal Pradesh           54.3   \n",
              "3    State              Assam           63.3   \n",
              "4    State              Bihar           47.0   \n",
              "5    State       Chhattisgarh           64.7   \n",
              "6    State                Goa           82.0   \n",
              "7    State            Gujarat           69.1   \n",
              "8    State            Haryana           67.9   \n",
              "9    State   Himachal Pradesh           76.5   \n",
              "\n",
              "   Literacy Rate (Persons) - Total - 2019.1  \\\n",
              "0                                      73.0   \n",
              "1                                      67.0   \n",
              "2                                      65.4   \n",
              "3                                      72.2   \n",
              "4                                      61.8   \n",
              "5                                      70.3   \n",
              "6                                      88.7   \n",
              "7                                      78.0   \n",
              "8                                      75.6   \n",
              "9                                      82.8   \n",
              "\n",
              "   Literacy Rate (Persons) - Rural - 2019  \\\n",
              "0                                    58.7   \n",
              "1                                    54.5   \n",
              "2                                    47.8   \n",
              "3                                    59.7   \n",
              "4                                    43.9   \n",
              "5                                    60.5   \n",
              "6                                    79.7   \n",
              "7                                    61.3   \n",
              "8                                    63.2   \n",
              "9                                    75.1   \n",
              "\n",
              "   Literacy Rate (Persons) - Rural - 2019.1  \\\n",
              "0                                      67.8   \n",
              "1                                      60.4   \n",
              "2                                      59.9   \n",
              "3                                      69.3   \n",
              "4                                      59.8   \n",
              "5                                      66.0   \n",
              "6                                      86.6   \n",
              "7                                      71.7   \n",
              "8                                      71.4   \n",
              "9                                      81.9   \n",
              "\n",
              "   Literacy Rate (Persons) - Urban - 2019  \\\n",
              "0                                    79.9   \n",
              "1                                    76.1   \n",
              "2                                    78.3   \n",
              "3                                    85.3   \n",
              "4                                    71.9   \n",
              "5                                    80.6   \n",
              "6                                    84.4   \n",
              "7                                    81.8   \n",
              "8                                    79.2   \n",
              "9                                    88.9   \n",
              "\n",
              "   Literacy Rate (Persons) - Urban - 2019.1  \n",
              "0                                      84.1  \n",
              "1                                      80.1  \n",
              "2                                      82.9  \n",
              "3                                      88.5  \n",
              "4                                      76.9  \n",
              "5                                      84.0  \n",
              "6                                      90.0  \n",
              "7                                      86.3  \n",
              "8                                      83.1  \n",
              "9                                      91.1  "
            ],
            "text/html": [
              "\n",
              "  <div id=\"df-8049b393-eddf-49c7-82e3-deed3e8ce038\" class=\"colab-df-container\">\n",
              "    <div>\n",
              "<style scoped>\n",
              "    .dataframe tbody tr th:only-of-type {\n",
              "        vertical-align: middle;\n",
              "    }\n",
              "\n",
              "    .dataframe tbody tr th {\n",
              "        vertical-align: top;\n",
              "    }\n",
              "\n",
              "    .dataframe thead th {\n",
              "        text-align: right;\n",
              "    }\n",
              "</style>\n",
              "<table border=\"1\" class=\"dataframe\">\n",
              "  <thead>\n",
              "    <tr style=\"text-align: right;\">\n",
              "      <th></th>\n",
              "      <th>Category</th>\n",
              "      <th>State</th>\n",
              "      <th>Literacy_rate</th>\n",
              "      <th>Literacy Rate (Persons) - Total - 2019.1</th>\n",
              "      <th>Literacy Rate (Persons) - Rural - 2019</th>\n",
              "      <th>Literacy Rate (Persons) - Rural - 2019.1</th>\n",
              "      <th>Literacy Rate (Persons) - Urban - 2019</th>\n",
              "      <th>Literacy Rate (Persons) - Urban - 2019.1</th>\n",
              "    </tr>\n",
              "  </thead>\n",
              "  <tbody>\n",
              "    <tr>\n",
              "      <th>0</th>\n",
              "      <td>Country</td>\n",
              "      <td>INDIA</td>\n",
              "      <td>64.8</td>\n",
              "      <td>73.0</td>\n",
              "      <td>58.7</td>\n",
              "      <td>67.8</td>\n",
              "      <td>79.9</td>\n",
              "      <td>84.1</td>\n",
              "    </tr>\n",
              "    <tr>\n",
              "      <th>1</th>\n",
              "      <td>State</td>\n",
              "      <td>Andhra Pradesh</td>\n",
              "      <td>60.5</td>\n",
              "      <td>67.0</td>\n",
              "      <td>54.5</td>\n",
              "      <td>60.4</td>\n",
              "      <td>76.1</td>\n",
              "      <td>80.1</td>\n",
              "    </tr>\n",
              "    <tr>\n",
              "      <th>2</th>\n",
              "      <td>State</td>\n",
              "      <td>Arunachal Pradesh</td>\n",
              "      <td>54.3</td>\n",
              "      <td>65.4</td>\n",
              "      <td>47.8</td>\n",
              "      <td>59.9</td>\n",
              "      <td>78.3</td>\n",
              "      <td>82.9</td>\n",
              "    </tr>\n",
              "    <tr>\n",
              "      <th>3</th>\n",
              "      <td>State</td>\n",
              "      <td>Assam</td>\n",
              "      <td>63.3</td>\n",
              "      <td>72.2</td>\n",
              "      <td>59.7</td>\n",
              "      <td>69.3</td>\n",
              "      <td>85.3</td>\n",
              "      <td>88.5</td>\n",
              "    </tr>\n",
              "    <tr>\n",
              "      <th>4</th>\n",
              "      <td>State</td>\n",
              "      <td>Bihar</td>\n",
              "      <td>47.0</td>\n",
              "      <td>61.8</td>\n",
              "      <td>43.9</td>\n",
              "      <td>59.8</td>\n",
              "      <td>71.9</td>\n",
              "      <td>76.9</td>\n",
              "    </tr>\n",
              "    <tr>\n",
              "      <th>5</th>\n",
              "      <td>State</td>\n",
              "      <td>Chhattisgarh</td>\n",
              "      <td>64.7</td>\n",
              "      <td>70.3</td>\n",
              "      <td>60.5</td>\n",
              "      <td>66.0</td>\n",
              "      <td>80.6</td>\n",
              "      <td>84.0</td>\n",
              "    </tr>\n",
              "    <tr>\n",
              "      <th>6</th>\n",
              "      <td>State</td>\n",
              "      <td>Goa</td>\n",
              "      <td>82.0</td>\n",
              "      <td>88.7</td>\n",
              "      <td>79.7</td>\n",
              "      <td>86.6</td>\n",
              "      <td>84.4</td>\n",
              "      <td>90.0</td>\n",
              "    </tr>\n",
              "    <tr>\n",
              "      <th>7</th>\n",
              "      <td>State</td>\n",
              "      <td>Gujarat</td>\n",
              "      <td>69.1</td>\n",
              "      <td>78.0</td>\n",
              "      <td>61.3</td>\n",
              "      <td>71.7</td>\n",
              "      <td>81.8</td>\n",
              "      <td>86.3</td>\n",
              "    </tr>\n",
              "    <tr>\n",
              "      <th>8</th>\n",
              "      <td>State</td>\n",
              "      <td>Haryana</td>\n",
              "      <td>67.9</td>\n",
              "      <td>75.6</td>\n",
              "      <td>63.2</td>\n",
              "      <td>71.4</td>\n",
              "      <td>79.2</td>\n",
              "      <td>83.1</td>\n",
              "    </tr>\n",
              "    <tr>\n",
              "      <th>9</th>\n",
              "      <td>State</td>\n",
              "      <td>Himachal Pradesh</td>\n",
              "      <td>76.5</td>\n",
              "      <td>82.8</td>\n",
              "      <td>75.1</td>\n",
              "      <td>81.9</td>\n",
              "      <td>88.9</td>\n",
              "      <td>91.1</td>\n",
              "    </tr>\n",
              "  </tbody>\n",
              "</table>\n",
              "</div>\n",
              "    <div class=\"colab-df-buttons\">\n",
              "\n",
              "  <div class=\"colab-df-container\">\n",
              "    <button class=\"colab-df-convert\" onclick=\"convertToInteractive('df-8049b393-eddf-49c7-82e3-deed3e8ce038')\"\n",
              "            title=\"Convert this dataframe to an interactive table.\"\n",
              "            style=\"display:none;\">\n",
              "\n",
              "  <svg xmlns=\"http://www.w3.org/2000/svg\" height=\"24px\" viewBox=\"0 -960 960 960\">\n",
              "    <path d=\"M120-120v-720h720v720H120Zm60-500h600v-160H180v160Zm220 220h160v-160H400v160Zm0 220h160v-160H400v160ZM180-400h160v-160H180v160Zm440 0h160v-160H620v160ZM180-180h160v-160H180v160Zm440 0h160v-160H620v160Z\"/>\n",
              "  </svg>\n",
              "    </button>\n",
              "\n",
              "  <style>\n",
              "    .colab-df-container {\n",
              "      display:flex;\n",
              "      gap: 12px;\n",
              "    }\n",
              "\n",
              "    .colab-df-convert {\n",
              "      background-color: #E8F0FE;\n",
              "      border: none;\n",
              "      border-radius: 50%;\n",
              "      cursor: pointer;\n",
              "      display: none;\n",
              "      fill: #1967D2;\n",
              "      height: 32px;\n",
              "      padding: 0 0 0 0;\n",
              "      width: 32px;\n",
              "    }\n",
              "\n",
              "    .colab-df-convert:hover {\n",
              "      background-color: #E2EBFA;\n",
              "      box-shadow: 0px 1px 2px rgba(60, 64, 67, 0.3), 0px 1px 3px 1px rgba(60, 64, 67, 0.15);\n",
              "      fill: #174EA6;\n",
              "    }\n",
              "\n",
              "    .colab-df-buttons div {\n",
              "      margin-bottom: 4px;\n",
              "    }\n",
              "\n",
              "    [theme=dark] .colab-df-convert {\n",
              "      background-color: #3B4455;\n",
              "      fill: #D2E3FC;\n",
              "    }\n",
              "\n",
              "    [theme=dark] .colab-df-convert:hover {\n",
              "      background-color: #434B5C;\n",
              "      box-shadow: 0px 1px 3px 1px rgba(0, 0, 0, 0.15);\n",
              "      filter: drop-shadow(0px 1px 2px rgba(0, 0, 0, 0.3));\n",
              "      fill: #FFFFFF;\n",
              "    }\n",
              "  </style>\n",
              "\n",
              "    <script>\n",
              "      const buttonEl =\n",
              "        document.querySelector('#df-8049b393-eddf-49c7-82e3-deed3e8ce038 button.colab-df-convert');\n",
              "      buttonEl.style.display =\n",
              "        google.colab.kernel.accessAllowed ? 'block' : 'none';\n",
              "\n",
              "      async function convertToInteractive(key) {\n",
              "        const element = document.querySelector('#df-8049b393-eddf-49c7-82e3-deed3e8ce038');\n",
              "        const dataTable =\n",
              "          await google.colab.kernel.invokeFunction('convertToInteractive',\n",
              "                                                    [key], {});\n",
              "        if (!dataTable) return;\n",
              "\n",
              "        const docLinkHtml = 'Like what you see? Visit the ' +\n",
              "          '<a target=\"_blank\" href=https://colab.research.google.com/notebooks/data_table.ipynb>data table notebook</a>'\n",
              "          + ' to learn more about interactive tables.';\n",
              "        element.innerHTML = '';\n",
              "        dataTable['output_type'] = 'display_data';\n",
              "        await google.colab.output.renderOutput(dataTable, element);\n",
              "        const docLink = document.createElement('div');\n",
              "        docLink.innerHTML = docLinkHtml;\n",
              "        element.appendChild(docLink);\n",
              "      }\n",
              "    </script>\n",
              "  </div>\n",
              "\n",
              "\n",
              "<div id=\"df-f9344096-78ef-43c0-b53c-07cc0dbae4dd\">\n",
              "  <button class=\"colab-df-quickchart\" onclick=\"quickchart('df-f9344096-78ef-43c0-b53c-07cc0dbae4dd')\"\n",
              "            title=\"Suggest charts.\"\n",
              "            style=\"display:none;\">\n",
              "\n",
              "<svg xmlns=\"http://www.w3.org/2000/svg\" height=\"24px\"viewBox=\"0 0 24 24\"\n",
              "     width=\"24px\">\n",
              "    <g>\n",
              "        <path d=\"M19 3H5c-1.1 0-2 .9-2 2v14c0 1.1.9 2 2 2h14c1.1 0 2-.9 2-2V5c0-1.1-.9-2-2-2zM9 17H7v-7h2v7zm4 0h-2V7h2v10zm4 0h-2v-4h2v4z\"/>\n",
              "    </g>\n",
              "</svg>\n",
              "  </button>\n",
              "\n",
              "<style>\n",
              "  .colab-df-quickchart {\n",
              "      --bg-color: #E8F0FE;\n",
              "      --fill-color: #1967D2;\n",
              "      --hover-bg-color: #E2EBFA;\n",
              "      --hover-fill-color: #174EA6;\n",
              "      --disabled-fill-color: #AAA;\n",
              "      --disabled-bg-color: #DDD;\n",
              "  }\n",
              "\n",
              "  [theme=dark] .colab-df-quickchart {\n",
              "      --bg-color: #3B4455;\n",
              "      --fill-color: #D2E3FC;\n",
              "      --hover-bg-color: #434B5C;\n",
              "      --hover-fill-color: #FFFFFF;\n",
              "      --disabled-bg-color: #3B4455;\n",
              "      --disabled-fill-color: #666;\n",
              "  }\n",
              "\n",
              "  .colab-df-quickchart {\n",
              "    background-color: var(--bg-color);\n",
              "    border: none;\n",
              "    border-radius: 50%;\n",
              "    cursor: pointer;\n",
              "    display: none;\n",
              "    fill: var(--fill-color);\n",
              "    height: 32px;\n",
              "    padding: 0;\n",
              "    width: 32px;\n",
              "  }\n",
              "\n",
              "  .colab-df-quickchart:hover {\n",
              "    background-color: var(--hover-bg-color);\n",
              "    box-shadow: 0 1px 2px rgba(60, 64, 67, 0.3), 0 1px 3px 1px rgba(60, 64, 67, 0.15);\n",
              "    fill: var(--button-hover-fill-color);\n",
              "  }\n",
              "\n",
              "  .colab-df-quickchart-complete:disabled,\n",
              "  .colab-df-quickchart-complete:disabled:hover {\n",
              "    background-color: var(--disabled-bg-color);\n",
              "    fill: var(--disabled-fill-color);\n",
              "    box-shadow: none;\n",
              "  }\n",
              "\n",
              "  .colab-df-spinner {\n",
              "    border: 2px solid var(--fill-color);\n",
              "    border-color: transparent;\n",
              "    border-bottom-color: var(--fill-color);\n",
              "    animation:\n",
              "      spin 1s steps(1) infinite;\n",
              "  }\n",
              "\n",
              "  @keyframes spin {\n",
              "    0% {\n",
              "      border-color: transparent;\n",
              "      border-bottom-color: var(--fill-color);\n",
              "      border-left-color: var(--fill-color);\n",
              "    }\n",
              "    20% {\n",
              "      border-color: transparent;\n",
              "      border-left-color: var(--fill-color);\n",
              "      border-top-color: var(--fill-color);\n",
              "    }\n",
              "    30% {\n",
              "      border-color: transparent;\n",
              "      border-left-color: var(--fill-color);\n",
              "      border-top-color: var(--fill-color);\n",
              "      border-right-color: var(--fill-color);\n",
              "    }\n",
              "    40% {\n",
              "      border-color: transparent;\n",
              "      border-right-color: var(--fill-color);\n",
              "      border-top-color: var(--fill-color);\n",
              "    }\n",
              "    60% {\n",
              "      border-color: transparent;\n",
              "      border-right-color: var(--fill-color);\n",
              "    }\n",
              "    80% {\n",
              "      border-color: transparent;\n",
              "      border-right-color: var(--fill-color);\n",
              "      border-bottom-color: var(--fill-color);\n",
              "    }\n",
              "    90% {\n",
              "      border-color: transparent;\n",
              "      border-bottom-color: var(--fill-color);\n",
              "    }\n",
              "  }\n",
              "</style>\n",
              "\n",
              "  <script>\n",
              "    async function quickchart(key) {\n",
              "      const quickchartButtonEl =\n",
              "        document.querySelector('#' + key + ' button');\n",
              "      quickchartButtonEl.disabled = true;  // To prevent multiple clicks.\n",
              "      quickchartButtonEl.classList.add('colab-df-spinner');\n",
              "      try {\n",
              "        const charts = await google.colab.kernel.invokeFunction(\n",
              "            'suggestCharts', [key], {});\n",
              "      } catch (error) {\n",
              "        console.error('Error during call to suggestCharts:', error);\n",
              "      }\n",
              "      quickchartButtonEl.classList.remove('colab-df-spinner');\n",
              "      quickchartButtonEl.classList.add('colab-df-quickchart-complete');\n",
              "    }\n",
              "    (() => {\n",
              "      let quickchartButtonEl =\n",
              "        document.querySelector('#df-f9344096-78ef-43c0-b53c-07cc0dbae4dd button');\n",
              "      quickchartButtonEl.style.display =\n",
              "        google.colab.kernel.accessAllowed ? 'block' : 'none';\n",
              "    })();\n",
              "  </script>\n",
              "</div>\n",
              "    </div>\n",
              "  </div>\n"
            ],
            "application/vnd.google.colaboratory.module+javascript": "\n      import \"https://ssl.gstatic.com/colaboratory/data_table/881c4a0d49046431/data_table.js\";\n\n      const table = window.createDataTable({\n        data: [[{\n            'v': 0,\n            'f': \"0\",\n        },\n\"Country\",\n\"INDIA\",\n{\n            'v': 64.8,\n            'f': \"64.8\",\n        },\n{\n            'v': 73.0,\n            'f': \"73.0\",\n        },\n{\n            'v': 58.7,\n            'f': \"58.7\",\n        },\n{\n            'v': 67.8,\n            'f': \"67.8\",\n        },\n{\n            'v': 79.9,\n            'f': \"79.9\",\n        },\n{\n            'v': 84.1,\n            'f': \"84.1\",\n        }],\n [{\n            'v': 1,\n            'f': \"1\",\n        },\n\"State\",\n\"Andhra Pradesh\",\n{\n            'v': 60.5,\n            'f': \"60.5\",\n        },\n{\n            'v': 67.0,\n            'f': \"67.0\",\n        },\n{\n            'v': 54.5,\n            'f': \"54.5\",\n        },\n{\n            'v': 60.4,\n            'f': \"60.4\",\n        },\n{\n            'v': 76.1,\n            'f': \"76.1\",\n        },\n{\n            'v': 80.1,\n            'f': \"80.1\",\n        }],\n [{\n            'v': 2,\n            'f': \"2\",\n        },\n\"State\",\n\"Arunachal Pradesh\",\n{\n            'v': 54.3,\n            'f': \"54.3\",\n        },\n{\n            'v': 65.4,\n            'f': \"65.4\",\n        },\n{\n            'v': 47.8,\n            'f': \"47.8\",\n        },\n{\n            'v': 59.9,\n            'f': \"59.9\",\n        },\n{\n            'v': 78.3,\n            'f': \"78.3\",\n        },\n{\n            'v': 82.9,\n            'f': \"82.9\",\n        }],\n [{\n            'v': 3,\n            'f': \"3\",\n        },\n\"State\",\n\"Assam\",\n{\n            'v': 63.3,\n            'f': \"63.3\",\n        },\n{\n            'v': 72.2,\n            'f': \"72.2\",\n        },\n{\n            'v': 59.7,\n            'f': \"59.7\",\n        },\n{\n            'v': 69.3,\n            'f': \"69.3\",\n        },\n{\n            'v': 85.3,\n            'f': \"85.3\",\n        },\n{\n            'v': 88.5,\n            'f': \"88.5\",\n        }],\n [{\n            'v': 4,\n            'f': \"4\",\n        },\n\"State\",\n\"Bihar\",\n{\n            'v': 47.0,\n            'f': \"47.0\",\n        },\n{\n            'v': 61.8,\n            'f': \"61.8\",\n        },\n{\n            'v': 43.9,\n            'f': \"43.9\",\n        },\n{\n            'v': 59.8,\n            'f': \"59.8\",\n        },\n{\n            'v': 71.9,\n            'f': \"71.9\",\n        },\n{\n            'v': 76.9,\n            'f': \"76.9\",\n        }],\n [{\n            'v': 5,\n            'f': \"5\",\n        },\n\"State\",\n\"Chhattisgarh\",\n{\n            'v': 64.7,\n            'f': \"64.7\",\n        },\n{\n            'v': 70.3,\n            'f': \"70.3\",\n        },\n{\n            'v': 60.5,\n            'f': \"60.5\",\n        },\n{\n            'v': 66.0,\n            'f': \"66.0\",\n        },\n{\n            'v': 80.6,\n            'f': \"80.6\",\n        },\n{\n            'v': 84.0,\n            'f': \"84.0\",\n        }],\n [{\n            'v': 6,\n            'f': \"6\",\n        },\n\"State\",\n\"Goa\",\n{\n            'v': 82.0,\n            'f': \"82.0\",\n        },\n{\n            'v': 88.7,\n            'f': \"88.7\",\n        },\n{\n            'v': 79.7,\n            'f': \"79.7\",\n        },\n{\n            'v': 86.6,\n            'f': \"86.6\",\n        },\n{\n            'v': 84.4,\n            'f': \"84.4\",\n        },\n{\n            'v': 90.0,\n            'f': \"90.0\",\n        }],\n [{\n            'v': 7,\n            'f': \"7\",\n        },\n\"State\",\n\"Gujarat\",\n{\n            'v': 69.1,\n            'f': \"69.1\",\n        },\n{\n            'v': 78.0,\n            'f': \"78.0\",\n        },\n{\n            'v': 61.3,\n            'f': \"61.3\",\n        },\n{\n            'v': 71.7,\n            'f': \"71.7\",\n        },\n{\n            'v': 81.8,\n            'f': \"81.8\",\n        },\n{\n            'v': 86.3,\n            'f': \"86.3\",\n        }],\n [{\n            'v': 8,\n            'f': \"8\",\n        },\n\"State\",\n\"Haryana\",\n{\n            'v': 67.9,\n            'f': \"67.9\",\n        },\n{\n            'v': 75.6,\n            'f': \"75.6\",\n        },\n{\n            'v': 63.2,\n            'f': \"63.2\",\n        },\n{\n            'v': 71.4,\n            'f': \"71.4\",\n        },\n{\n            'v': 79.2,\n            'f': \"79.2\",\n        },\n{\n            'v': 83.1,\n            'f': \"83.1\",\n        }],\n [{\n            'v': 9,\n            'f': \"9\",\n        },\n\"State\",\n\"Himachal Pradesh\",\n{\n            'v': 76.5,\n            'f': \"76.5\",\n        },\n{\n            'v': 82.8,\n            'f': \"82.8\",\n        },\n{\n            'v': 75.1,\n            'f': \"75.1\",\n        },\n{\n            'v': 81.9,\n            'f': \"81.9\",\n        },\n{\n            'v': 88.9,\n            'f': \"88.9\",\n        },\n{\n            'v': 91.1,\n            'f': \"91.1\",\n        }]],\n        columns: [[\"number\", \"index\"], [\"string\", \"Category\"], [\"string\", \"State\"], [\"number\", \"Literacy_rate\"], [\"number\", \"Literacy Rate (Persons) - Total - 2019.1\"], [\"number\", \"Literacy Rate (Persons) - Rural - 2019\"], [\"number\", \"Literacy Rate (Persons) - Rural - 2019.1\"], [\"number\", \"Literacy Rate (Persons) - Urban - 2019\"], [\"number\", \"Literacy Rate (Persons) - Urban - 2019.1\"]],\n        columnOptions: [{\"width\": \"1px\", \"className\": \"index_column\"}],\n        rowsPerPage: 25,\n        helpUrl: \"https://colab.research.google.com/notebooks/data_table.ipynb\",\n        suppressOutputScrolling: true,\n        minimumWidth: undefined,\n      });\n\n      function appendQuickchartButton(parentElement) {\n        let quickchartButtonContainerElement = document.createElement('div');\n        quickchartButtonContainerElement.innerHTML = `\n<div id=\"df-31939ad0-cb49-466f-8efe-90c58bd3029b\">\n  <button class=\"colab-df-quickchart\" onclick=\"quickchart('df-31939ad0-cb49-466f-8efe-90c58bd3029b')\"\n            title=\"Suggest charts.\"\n            style=\"display:none;\">\n    \n<svg xmlns=\"http://www.w3.org/2000/svg\" height=\"24px\"viewBox=\"0 0 24 24\"\n     width=\"24px\">\n    <g>\n        <path d=\"M19 3H5c-1.1 0-2 .9-2 2v14c0 1.1.9 2 2 2h14c1.1 0 2-.9 2-2V5c0-1.1-.9-2-2-2zM9 17H7v-7h2v7zm4 0h-2V7h2v10zm4 0h-2v-4h2v4z\"/>\n    </g>\n</svg>\n  </button>\n  \n<style>\n  .colab-df-quickchart {\n      --bg-color: #E8F0FE;\n      --fill-color: #1967D2;\n      --hover-bg-color: #E2EBFA;\n      --hover-fill-color: #174EA6;\n      --disabled-fill-color: #AAA;\n      --disabled-bg-color: #DDD;\n  }\n\n  [theme=dark] .colab-df-quickchart {\n      --bg-color: #3B4455;\n      --fill-color: #D2E3FC;\n      --hover-bg-color: #434B5C;\n      --hover-fill-color: #FFFFFF;\n      --disabled-bg-color: #3B4455;\n      --disabled-fill-color: #666;\n  }\n\n  .colab-df-quickchart {\n    background-color: var(--bg-color);\n    border: none;\n    border-radius: 50%;\n    cursor: pointer;\n    display: none;\n    fill: var(--fill-color);\n    height: 32px;\n    padding: 0;\n    width: 32px;\n  }\n\n  .colab-df-quickchart:hover {\n    background-color: var(--hover-bg-color);\n    box-shadow: 0 1px 2px rgba(60, 64, 67, 0.3), 0 1px 3px 1px rgba(60, 64, 67, 0.15);\n    fill: var(--button-hover-fill-color);\n  }\n\n  .colab-df-quickchart-complete:disabled,\n  .colab-df-quickchart-complete:disabled:hover {\n    background-color: var(--disabled-bg-color);\n    fill: var(--disabled-fill-color);\n    box-shadow: none;\n  }\n\n  .colab-df-spinner {\n    border: 2px solid var(--fill-color);\n    border-color: transparent;\n    border-bottom-color: var(--fill-color);\n    animation:\n      spin 1s steps(1) infinite;\n  }\n\n  @keyframes spin {\n    0% {\n      border-color: transparent;\n      border-bottom-color: var(--fill-color);\n      border-left-color: var(--fill-color);\n    }\n    20% {\n      border-color: transparent;\n      border-left-color: var(--fill-color);\n      border-top-color: var(--fill-color);\n    }\n    30% {\n      border-color: transparent;\n      border-left-color: var(--fill-color);\n      border-top-color: var(--fill-color);\n      border-right-color: var(--fill-color);\n    }\n    40% {\n      border-color: transparent;\n      border-right-color: var(--fill-color);\n      border-top-color: var(--fill-color);\n    }\n    60% {\n      border-color: transparent;\n      border-right-color: var(--fill-color);\n    }\n    80% {\n      border-color: transparent;\n      border-right-color: var(--fill-color);\n      border-bottom-color: var(--fill-color);\n    }\n    90% {\n      border-color: transparent;\n      border-bottom-color: var(--fill-color);\n    }\n  }\n</style>\n\n  <script>\n    async function quickchart(key) {\n      const quickchartButtonEl =\n        document.querySelector('#' + key + ' button');\n      quickchartButtonEl.disabled = true;  // To prevent multiple clicks.\n      quickchartButtonEl.classList.add('colab-df-spinner');\n      try {\n        const charts = await google.colab.kernel.invokeFunction(\n            'suggestCharts', [key], {});\n      } catch (error) {\n        console.error('Error during call to suggestCharts:', error);\n      }\n      quickchartButtonEl.classList.remove('colab-df-spinner');\n      quickchartButtonEl.classList.add('colab-df-quickchart-complete');\n    }\n    (() => {\n      let quickchartButtonEl =\n        document.querySelector('#df-31939ad0-cb49-466f-8efe-90c58bd3029b button');\n      quickchartButtonEl.style.display =\n        google.colab.kernel.accessAllowed ? 'block' : 'none';\n    })();\n  </script>\n</div>`;\n        parentElement.appendChild(quickchartButtonContainerElement);\n      }\n\n      appendQuickchartButton(table);\n    "
          },
          "metadata": {},
          "execution_count": 56
        }
      ]
    },
    {
      "cell_type": "code",
      "source": [
        "df_literacy = df_literacy.drop(df_literacy.index[0])"
      ],
      "metadata": {
        "id": "QLDNmdqIVDVj"
      },
      "execution_count": null,
      "outputs": []
    },
    {
      "cell_type": "code",
      "source": [
        "df_literacy.head(3)"
      ],
      "metadata": {
        "colab": {
          "base_uri": "https://localhost:8080/",
          "height": 221
        },
        "id": "LyU57yS0VecC",
        "outputId": "21a9d707-ea06-492e-f0f1-e6dce28e4a9a"
      },
      "execution_count": null,
      "outputs": [
        {
          "output_type": "execute_result",
          "data": {
            "text/plain": [
              "  Category              State  Literacy_rate  \\\n",
              "1    State     Andhra Pradesh           60.5   \n",
              "2    State  Arunachal Pradesh           54.3   \n",
              "3    State              Assam           63.3   \n",
              "\n",
              "   Literacy Rate (Persons) - Total - 2019.1  \\\n",
              "1                                      67.0   \n",
              "2                                      65.4   \n",
              "3                                      72.2   \n",
              "\n",
              "   Literacy Rate (Persons) - Rural - 2019  \\\n",
              "1                                    54.5   \n",
              "2                                    47.8   \n",
              "3                                    59.7   \n",
              "\n",
              "   Literacy Rate (Persons) - Rural - 2019.1  \\\n",
              "1                                      60.4   \n",
              "2                                      59.9   \n",
              "3                                      69.3   \n",
              "\n",
              "   Literacy Rate (Persons) - Urban - 2019  \\\n",
              "1                                    76.1   \n",
              "2                                    78.3   \n",
              "3                                    85.3   \n",
              "\n",
              "   Literacy Rate (Persons) - Urban - 2019.1  \n",
              "1                                      80.1  \n",
              "2                                      82.9  \n",
              "3                                      88.5  "
            ],
            "text/html": [
              "\n",
              "  <div id=\"df-ecabeba3-2cca-4473-a16b-3762f4d63cac\" class=\"colab-df-container\">\n",
              "    <div>\n",
              "<style scoped>\n",
              "    .dataframe tbody tr th:only-of-type {\n",
              "        vertical-align: middle;\n",
              "    }\n",
              "\n",
              "    .dataframe tbody tr th {\n",
              "        vertical-align: top;\n",
              "    }\n",
              "\n",
              "    .dataframe thead th {\n",
              "        text-align: right;\n",
              "    }\n",
              "</style>\n",
              "<table border=\"1\" class=\"dataframe\">\n",
              "  <thead>\n",
              "    <tr style=\"text-align: right;\">\n",
              "      <th></th>\n",
              "      <th>Category</th>\n",
              "      <th>State</th>\n",
              "      <th>Literacy_rate</th>\n",
              "      <th>Literacy Rate (Persons) - Total - 2019.1</th>\n",
              "      <th>Literacy Rate (Persons) - Rural - 2019</th>\n",
              "      <th>Literacy Rate (Persons) - Rural - 2019.1</th>\n",
              "      <th>Literacy Rate (Persons) - Urban - 2019</th>\n",
              "      <th>Literacy Rate (Persons) - Urban - 2019.1</th>\n",
              "    </tr>\n",
              "  </thead>\n",
              "  <tbody>\n",
              "    <tr>\n",
              "      <th>1</th>\n",
              "      <td>State</td>\n",
              "      <td>Andhra Pradesh</td>\n",
              "      <td>60.5</td>\n",
              "      <td>67.0</td>\n",
              "      <td>54.5</td>\n",
              "      <td>60.4</td>\n",
              "      <td>76.1</td>\n",
              "      <td>80.1</td>\n",
              "    </tr>\n",
              "    <tr>\n",
              "      <th>2</th>\n",
              "      <td>State</td>\n",
              "      <td>Arunachal Pradesh</td>\n",
              "      <td>54.3</td>\n",
              "      <td>65.4</td>\n",
              "      <td>47.8</td>\n",
              "      <td>59.9</td>\n",
              "      <td>78.3</td>\n",
              "      <td>82.9</td>\n",
              "    </tr>\n",
              "    <tr>\n",
              "      <th>3</th>\n",
              "      <td>State</td>\n",
              "      <td>Assam</td>\n",
              "      <td>63.3</td>\n",
              "      <td>72.2</td>\n",
              "      <td>59.7</td>\n",
              "      <td>69.3</td>\n",
              "      <td>85.3</td>\n",
              "      <td>88.5</td>\n",
              "    </tr>\n",
              "  </tbody>\n",
              "</table>\n",
              "</div>\n",
              "    <div class=\"colab-df-buttons\">\n",
              "\n",
              "  <div class=\"colab-df-container\">\n",
              "    <button class=\"colab-df-convert\" onclick=\"convertToInteractive('df-ecabeba3-2cca-4473-a16b-3762f4d63cac')\"\n",
              "            title=\"Convert this dataframe to an interactive table.\"\n",
              "            style=\"display:none;\">\n",
              "\n",
              "  <svg xmlns=\"http://www.w3.org/2000/svg\" height=\"24px\" viewBox=\"0 -960 960 960\">\n",
              "    <path d=\"M120-120v-720h720v720H120Zm60-500h600v-160H180v160Zm220 220h160v-160H400v160Zm0 220h160v-160H400v160ZM180-400h160v-160H180v160Zm440 0h160v-160H620v160ZM180-180h160v-160H180v160Zm440 0h160v-160H620v160Z\"/>\n",
              "  </svg>\n",
              "    </button>\n",
              "\n",
              "  <style>\n",
              "    .colab-df-container {\n",
              "      display:flex;\n",
              "      gap: 12px;\n",
              "    }\n",
              "\n",
              "    .colab-df-convert {\n",
              "      background-color: #E8F0FE;\n",
              "      border: none;\n",
              "      border-radius: 50%;\n",
              "      cursor: pointer;\n",
              "      display: none;\n",
              "      fill: #1967D2;\n",
              "      height: 32px;\n",
              "      padding: 0 0 0 0;\n",
              "      width: 32px;\n",
              "    }\n",
              "\n",
              "    .colab-df-convert:hover {\n",
              "      background-color: #E2EBFA;\n",
              "      box-shadow: 0px 1px 2px rgba(60, 64, 67, 0.3), 0px 1px 3px 1px rgba(60, 64, 67, 0.15);\n",
              "      fill: #174EA6;\n",
              "    }\n",
              "\n",
              "    .colab-df-buttons div {\n",
              "      margin-bottom: 4px;\n",
              "    }\n",
              "\n",
              "    [theme=dark] .colab-df-convert {\n",
              "      background-color: #3B4455;\n",
              "      fill: #D2E3FC;\n",
              "    }\n",
              "\n",
              "    [theme=dark] .colab-df-convert:hover {\n",
              "      background-color: #434B5C;\n",
              "      box-shadow: 0px 1px 3px 1px rgba(0, 0, 0, 0.15);\n",
              "      filter: drop-shadow(0px 1px 2px rgba(0, 0, 0, 0.3));\n",
              "      fill: #FFFFFF;\n",
              "    }\n",
              "  </style>\n",
              "\n",
              "    <script>\n",
              "      const buttonEl =\n",
              "        document.querySelector('#df-ecabeba3-2cca-4473-a16b-3762f4d63cac button.colab-df-convert');\n",
              "      buttonEl.style.display =\n",
              "        google.colab.kernel.accessAllowed ? 'block' : 'none';\n",
              "\n",
              "      async function convertToInteractive(key) {\n",
              "        const element = document.querySelector('#df-ecabeba3-2cca-4473-a16b-3762f4d63cac');\n",
              "        const dataTable =\n",
              "          await google.colab.kernel.invokeFunction('convertToInteractive',\n",
              "                                                    [key], {});\n",
              "        if (!dataTable) return;\n",
              "\n",
              "        const docLinkHtml = 'Like what you see? Visit the ' +\n",
              "          '<a target=\"_blank\" href=https://colab.research.google.com/notebooks/data_table.ipynb>data table notebook</a>'\n",
              "          + ' to learn more about interactive tables.';\n",
              "        element.innerHTML = '';\n",
              "        dataTable['output_type'] = 'display_data';\n",
              "        await google.colab.output.renderOutput(dataTable, element);\n",
              "        const docLink = document.createElement('div');\n",
              "        docLink.innerHTML = docLinkHtml;\n",
              "        element.appendChild(docLink);\n",
              "      }\n",
              "    </script>\n",
              "  </div>\n",
              "\n",
              "\n",
              "<div id=\"df-2f7dc25e-137b-44ab-96c7-b26936dd3dbf\">\n",
              "  <button class=\"colab-df-quickchart\" onclick=\"quickchart('df-2f7dc25e-137b-44ab-96c7-b26936dd3dbf')\"\n",
              "            title=\"Suggest charts.\"\n",
              "            style=\"display:none;\">\n",
              "\n",
              "<svg xmlns=\"http://www.w3.org/2000/svg\" height=\"24px\"viewBox=\"0 0 24 24\"\n",
              "     width=\"24px\">\n",
              "    <g>\n",
              "        <path d=\"M19 3H5c-1.1 0-2 .9-2 2v14c0 1.1.9 2 2 2h14c1.1 0 2-.9 2-2V5c0-1.1-.9-2-2-2zM9 17H7v-7h2v7zm4 0h-2V7h2v10zm4 0h-2v-4h2v4z\"/>\n",
              "    </g>\n",
              "</svg>\n",
              "  </button>\n",
              "\n",
              "<style>\n",
              "  .colab-df-quickchart {\n",
              "      --bg-color: #E8F0FE;\n",
              "      --fill-color: #1967D2;\n",
              "      --hover-bg-color: #E2EBFA;\n",
              "      --hover-fill-color: #174EA6;\n",
              "      --disabled-fill-color: #AAA;\n",
              "      --disabled-bg-color: #DDD;\n",
              "  }\n",
              "\n",
              "  [theme=dark] .colab-df-quickchart {\n",
              "      --bg-color: #3B4455;\n",
              "      --fill-color: #D2E3FC;\n",
              "      --hover-bg-color: #434B5C;\n",
              "      --hover-fill-color: #FFFFFF;\n",
              "      --disabled-bg-color: #3B4455;\n",
              "      --disabled-fill-color: #666;\n",
              "  }\n",
              "\n",
              "  .colab-df-quickchart {\n",
              "    background-color: var(--bg-color);\n",
              "    border: none;\n",
              "    border-radius: 50%;\n",
              "    cursor: pointer;\n",
              "    display: none;\n",
              "    fill: var(--fill-color);\n",
              "    height: 32px;\n",
              "    padding: 0;\n",
              "    width: 32px;\n",
              "  }\n",
              "\n",
              "  .colab-df-quickchart:hover {\n",
              "    background-color: var(--hover-bg-color);\n",
              "    box-shadow: 0 1px 2px rgba(60, 64, 67, 0.3), 0 1px 3px 1px rgba(60, 64, 67, 0.15);\n",
              "    fill: var(--button-hover-fill-color);\n",
              "  }\n",
              "\n",
              "  .colab-df-quickchart-complete:disabled,\n",
              "  .colab-df-quickchart-complete:disabled:hover {\n",
              "    background-color: var(--disabled-bg-color);\n",
              "    fill: var(--disabled-fill-color);\n",
              "    box-shadow: none;\n",
              "  }\n",
              "\n",
              "  .colab-df-spinner {\n",
              "    border: 2px solid var(--fill-color);\n",
              "    border-color: transparent;\n",
              "    border-bottom-color: var(--fill-color);\n",
              "    animation:\n",
              "      spin 1s steps(1) infinite;\n",
              "  }\n",
              "\n",
              "  @keyframes spin {\n",
              "    0% {\n",
              "      border-color: transparent;\n",
              "      border-bottom-color: var(--fill-color);\n",
              "      border-left-color: var(--fill-color);\n",
              "    }\n",
              "    20% {\n",
              "      border-color: transparent;\n",
              "      border-left-color: var(--fill-color);\n",
              "      border-top-color: var(--fill-color);\n",
              "    }\n",
              "    30% {\n",
              "      border-color: transparent;\n",
              "      border-left-color: var(--fill-color);\n",
              "      border-top-color: var(--fill-color);\n",
              "      border-right-color: var(--fill-color);\n",
              "    }\n",
              "    40% {\n",
              "      border-color: transparent;\n",
              "      border-right-color: var(--fill-color);\n",
              "      border-top-color: var(--fill-color);\n",
              "    }\n",
              "    60% {\n",
              "      border-color: transparent;\n",
              "      border-right-color: var(--fill-color);\n",
              "    }\n",
              "    80% {\n",
              "      border-color: transparent;\n",
              "      border-right-color: var(--fill-color);\n",
              "      border-bottom-color: var(--fill-color);\n",
              "    }\n",
              "    90% {\n",
              "      border-color: transparent;\n",
              "      border-bottom-color: var(--fill-color);\n",
              "    }\n",
              "  }\n",
              "</style>\n",
              "\n",
              "  <script>\n",
              "    async function quickchart(key) {\n",
              "      const quickchartButtonEl =\n",
              "        document.querySelector('#' + key + ' button');\n",
              "      quickchartButtonEl.disabled = true;  // To prevent multiple clicks.\n",
              "      quickchartButtonEl.classList.add('colab-df-spinner');\n",
              "      try {\n",
              "        const charts = await google.colab.kernel.invokeFunction(\n",
              "            'suggestCharts', [key], {});\n",
              "      } catch (error) {\n",
              "        console.error('Error during call to suggestCharts:', error);\n",
              "      }\n",
              "      quickchartButtonEl.classList.remove('colab-df-spinner');\n",
              "      quickchartButtonEl.classList.add('colab-df-quickchart-complete');\n",
              "    }\n",
              "    (() => {\n",
              "      let quickchartButtonEl =\n",
              "        document.querySelector('#df-2f7dc25e-137b-44ab-96c7-b26936dd3dbf button');\n",
              "      quickchartButtonEl.style.display =\n",
              "        google.colab.kernel.accessAllowed ? 'block' : 'none';\n",
              "    })();\n",
              "  </script>\n",
              "</div>\n",
              "    </div>\n",
              "  </div>\n"
            ],
            "application/vnd.google.colaboratory.module+javascript": "\n      import \"https://ssl.gstatic.com/colaboratory/data_table/881c4a0d49046431/data_table.js\";\n\n      const table = window.createDataTable({\n        data: [[{\n            'v': 1,\n            'f': \"1\",\n        },\n\"State\",\n\"Andhra Pradesh\",\n{\n            'v': 60.5,\n            'f': \"60.5\",\n        },\n{\n            'v': 67.0,\n            'f': \"67.0\",\n        },\n{\n            'v': 54.5,\n            'f': \"54.5\",\n        },\n{\n            'v': 60.4,\n            'f': \"60.4\",\n        },\n{\n            'v': 76.1,\n            'f': \"76.1\",\n        },\n{\n            'v': 80.1,\n            'f': \"80.1\",\n        }],\n [{\n            'v': 2,\n            'f': \"2\",\n        },\n\"State\",\n\"Arunachal Pradesh\",\n{\n            'v': 54.3,\n            'f': \"54.3\",\n        },\n{\n            'v': 65.4,\n            'f': \"65.4\",\n        },\n{\n            'v': 47.8,\n            'f': \"47.8\",\n        },\n{\n            'v': 59.9,\n            'f': \"59.9\",\n        },\n{\n            'v': 78.3,\n            'f': \"78.3\",\n        },\n{\n            'v': 82.9,\n            'f': \"82.9\",\n        }],\n [{\n            'v': 3,\n            'f': \"3\",\n        },\n\"State\",\n\"Assam\",\n{\n            'v': 63.3,\n            'f': \"63.3\",\n        },\n{\n            'v': 72.2,\n            'f': \"72.2\",\n        },\n{\n            'v': 59.7,\n            'f': \"59.7\",\n        },\n{\n            'v': 69.3,\n            'f': \"69.3\",\n        },\n{\n            'v': 85.3,\n            'f': \"85.3\",\n        },\n{\n            'v': 88.5,\n            'f': \"88.5\",\n        }]],\n        columns: [[\"number\", \"index\"], [\"string\", \"Category\"], [\"string\", \"State\"], [\"number\", \"Literacy_rate\"], [\"number\", \"Literacy Rate (Persons) - Total - 2019.1\"], [\"number\", \"Literacy Rate (Persons) - Rural - 2019\"], [\"number\", \"Literacy Rate (Persons) - Rural - 2019.1\"], [\"number\", \"Literacy Rate (Persons) - Urban - 2019\"], [\"number\", \"Literacy Rate (Persons) - Urban - 2019.1\"]],\n        columnOptions: [{\"width\": \"1px\", \"className\": \"index_column\"}],\n        rowsPerPage: 25,\n        helpUrl: \"https://colab.research.google.com/notebooks/data_table.ipynb\",\n        suppressOutputScrolling: true,\n        minimumWidth: undefined,\n      });\n\n      function appendQuickchartButton(parentElement) {\n        let quickchartButtonContainerElement = document.createElement('div');\n        quickchartButtonContainerElement.innerHTML = `\n<div id=\"df-0416ced7-d8bd-4388-83f4-b0e4aecdd70c\">\n  <button class=\"colab-df-quickchart\" onclick=\"quickchart('df-0416ced7-d8bd-4388-83f4-b0e4aecdd70c')\"\n            title=\"Suggest charts.\"\n            style=\"display:none;\">\n    \n<svg xmlns=\"http://www.w3.org/2000/svg\" height=\"24px\"viewBox=\"0 0 24 24\"\n     width=\"24px\">\n    <g>\n        <path d=\"M19 3H5c-1.1 0-2 .9-2 2v14c0 1.1.9 2 2 2h14c1.1 0 2-.9 2-2V5c0-1.1-.9-2-2-2zM9 17H7v-7h2v7zm4 0h-2V7h2v10zm4 0h-2v-4h2v4z\"/>\n    </g>\n</svg>\n  </button>\n  \n<style>\n  .colab-df-quickchart {\n      --bg-color: #E8F0FE;\n      --fill-color: #1967D2;\n      --hover-bg-color: #E2EBFA;\n      --hover-fill-color: #174EA6;\n      --disabled-fill-color: #AAA;\n      --disabled-bg-color: #DDD;\n  }\n\n  [theme=dark] .colab-df-quickchart {\n      --bg-color: #3B4455;\n      --fill-color: #D2E3FC;\n      --hover-bg-color: #434B5C;\n      --hover-fill-color: #FFFFFF;\n      --disabled-bg-color: #3B4455;\n      --disabled-fill-color: #666;\n  }\n\n  .colab-df-quickchart {\n    background-color: var(--bg-color);\n    border: none;\n    border-radius: 50%;\n    cursor: pointer;\n    display: none;\n    fill: var(--fill-color);\n    height: 32px;\n    padding: 0;\n    width: 32px;\n  }\n\n  .colab-df-quickchart:hover {\n    background-color: var(--hover-bg-color);\n    box-shadow: 0 1px 2px rgba(60, 64, 67, 0.3), 0 1px 3px 1px rgba(60, 64, 67, 0.15);\n    fill: var(--button-hover-fill-color);\n  }\n\n  .colab-df-quickchart-complete:disabled,\n  .colab-df-quickchart-complete:disabled:hover {\n    background-color: var(--disabled-bg-color);\n    fill: var(--disabled-fill-color);\n    box-shadow: none;\n  }\n\n  .colab-df-spinner {\n    border: 2px solid var(--fill-color);\n    border-color: transparent;\n    border-bottom-color: var(--fill-color);\n    animation:\n      spin 1s steps(1) infinite;\n  }\n\n  @keyframes spin {\n    0% {\n      border-color: transparent;\n      border-bottom-color: var(--fill-color);\n      border-left-color: var(--fill-color);\n    }\n    20% {\n      border-color: transparent;\n      border-left-color: var(--fill-color);\n      border-top-color: var(--fill-color);\n    }\n    30% {\n      border-color: transparent;\n      border-left-color: var(--fill-color);\n      border-top-color: var(--fill-color);\n      border-right-color: var(--fill-color);\n    }\n    40% {\n      border-color: transparent;\n      border-right-color: var(--fill-color);\n      border-top-color: var(--fill-color);\n    }\n    60% {\n      border-color: transparent;\n      border-right-color: var(--fill-color);\n    }\n    80% {\n      border-color: transparent;\n      border-right-color: var(--fill-color);\n      border-bottom-color: var(--fill-color);\n    }\n    90% {\n      border-color: transparent;\n      border-bottom-color: var(--fill-color);\n    }\n  }\n</style>\n\n  <script>\n    async function quickchart(key) {\n      const quickchartButtonEl =\n        document.querySelector('#' + key + ' button');\n      quickchartButtonEl.disabled = true;  // To prevent multiple clicks.\n      quickchartButtonEl.classList.add('colab-df-spinner');\n      try {\n        const charts = await google.colab.kernel.invokeFunction(\n            'suggestCharts', [key], {});\n      } catch (error) {\n        console.error('Error during call to suggestCharts:', error);\n      }\n      quickchartButtonEl.classList.remove('colab-df-spinner');\n      quickchartButtonEl.classList.add('colab-df-quickchart-complete');\n    }\n    (() => {\n      let quickchartButtonEl =\n        document.querySelector('#df-0416ced7-d8bd-4388-83f4-b0e4aecdd70c button');\n      quickchartButtonEl.style.display =\n        google.colab.kernel.accessAllowed ? 'block' : 'none';\n    })();\n  </script>\n</div>`;\n        parentElement.appendChild(quickchartButtonContainerElement);\n      }\n\n      appendQuickchartButton(table);\n    "
          },
          "metadata": {},
          "execution_count": 58
        }
      ]
    },
    {
      "cell_type": "code",
      "source": [
        "Literacy_df = pd.merge(Ind,df_literacy, on='State',how='outer',indicator=True)\n",
        "#print(C1.columns)"
      ],
      "metadata": {
        "id": "yEDnDADmWN91"
      },
      "execution_count": null,
      "outputs": []
    },
    {
      "cell_type": "code",
      "source": [
        "Literacy_df_2 = pd.merge(Ind,df_literacy, on='State',how='inner',indicator=False)"
      ],
      "metadata": {
        "id": "4Gk5lkBBW_6y"
      },
      "execution_count": null,
      "outputs": []
    },
    {
      "cell_type": "code",
      "source": [
        "Literacy_df = Literacy_df[['State','Literacy_rate','geometry','_merge']]"
      ],
      "metadata": {
        "id": "dFNXvPw9Whzk"
      },
      "execution_count": null,
      "outputs": []
    },
    {
      "cell_type": "code",
      "source": [
        "Literacy_df.shape"
      ],
      "metadata": {
        "colab": {
          "base_uri": "https://localhost:8080/"
        },
        "id": "Xs7fSEJBWx0j",
        "outputId": "a5623032-d578-4619-aaff-79053ee7bbbe"
      },
      "execution_count": null,
      "outputs": [
        {
          "output_type": "execute_result",
          "data": {
            "text/plain": [
              "(39, 4)"
            ]
          },
          "metadata": {},
          "execution_count": 62
        }
      ]
    },
    {
      "cell_type": "code",
      "source": [
        "fig, ax = plt.subplots(1, figsize=(10,12))\n",
        "Literacy_df.plot(ax=ax,column='Literacy_rate',legend=True,cmap='RdYlGn_r',\n",
        "          scheme='natural_breaks',k=4, edgecolor='grey',linewidth=0.5,\n",
        "          legend_kwds= {\"fmt\": \"{:,.0f}\",'loc':'lower right','markerscale':1.4})\n",
        "leg1 = ax.get_legend()\n",
        "leg1.set_title('''white color=missing''')\n",
        "ax.title.set_text(\"Literacy Rate\")\n",
        "ax.set_xticks([]) #kills xticks\n",
        "ax.set_yticks([]) #kills xticks"
      ],
      "metadata": {
        "colab": {
          "base_uri": "https://localhost:8080/",
          "height": 946
        },
        "id": "dIa0rfdNW5rr",
        "outputId": "85b477c6-9af6-483a-9ee7-d8f923f7374d"
      },
      "execution_count": null,
      "outputs": [
        {
          "output_type": "execute_result",
          "data": {
            "text/plain": [
              "<Axes: >"
            ]
          },
          "metadata": {},
          "execution_count": 63
        },
        {
          "output_type": "execute_result",
          "data": {
            "text/plain": [
              "[]"
            ]
          },
          "metadata": {},
          "execution_count": 63
        },
        {
          "output_type": "execute_result",
          "data": {
            "text/plain": [
              "[]"
            ]
          },
          "metadata": {},
          "execution_count": 63
        },
        {
          "output_type": "display_data",
          "data": {
            "text/plain": [
              "<Figure size 1000x1200 with 1 Axes>"
            ],
            "image/png": "[encoded data removed]"
          },
          "metadata": {}
        }
      ]
    },
    {
      "cell_type": "markdown",
      "source": [
        "### Inference ###"
      ],
      "metadata": {
        "id": "HeSRP5wfuwmF"
      }
    },
    {
      "cell_type": "markdown",
      "source": [
        "By plotting both the maps we were able to discover correlation between literacy rate and unemployment. Majority of States with higher literacy has a lower unemployment rate."
      ],
      "metadata": {
        "id": "-sC6-pIiu299"
      }
    },
    {
      "cell_type": "code",
      "source": [],
      "metadata": {
        "id": "GAujzYHMLMhZ"
      },
      "execution_count": null,
      "outputs": []
    }
  ]
}